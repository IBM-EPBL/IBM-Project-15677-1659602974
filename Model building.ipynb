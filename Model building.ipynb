{
  "cells": [
    {
      "cell_type": "code",
      "execution_count": null,
      "metadata": {
        "id": "gMYdEoHq-oKE"
      },
      "outputs": [],
      "source": [
        "import pandas as pd\n",
        "import numpy as np\n",
        "import matplotlib.pyplot as plt\n"
      ]
    },
    {
      "cell_type": "code",
      "execution_count": null,
      "metadata": {
        "id": "gmhtVZLW_Ghh"
      },
      "outputs": [],
      "source": [
        "data=pd.read_excel(\"/content/Crude Oil Prices Daily.xlsx\")"
      ]
    },
    {
      "cell_type": "code",
      "execution_count": null,
      "metadata": {
        "colab": {
          "base_uri": "https://localhost:8080/"
        },
        "id": "N-TTvICd_RdY",
        "outputId": "553b761b-7f2e-4141-d253-ccca37df751a"
      },
      "outputs": [
        {
          "data": {
            "text/plain": [
              "Date             False\n",
              "Closing Value     True\n",
              "dtype: bool"
            ]
          },
          "execution_count": 5,
          "metadata": {},
          "output_type": "execute_result"
        }
      ],
      "source": [
        "data.isnull().any()"
      ]
    },
    {
      "cell_type": "code",
      "execution_count": null,
      "metadata": {
        "colab": {
          "base_uri": "https://localhost:8080/"
        },
        "id": "XZ2t4xPq_Wan",
        "outputId": "12bd5fba-2625-43b1-85d2-48ed44149251"
      },
      "outputs": [
        {
          "data": {
            "text/plain": [
              "Date             0\n",
              "Closing Value    7\n",
              "dtype: int64"
            ]
          },
          "execution_count": 6,
          "metadata": {},
          "output_type": "execute_result"
        }
      ],
      "source": [
        "data.isnull().sum()"
      ]
    },
    {
      "cell_type": "code",
      "execution_count": null,
      "metadata": {
        "id": "5Td0P9d2_aKw"
      },
      "outputs": [],
      "source": [
        "data.dropna(axis=0,inplace=True)"
      ]
    },
    {
      "cell_type": "code",
      "execution_count": null,
      "metadata": {
        "colab": {
          "base_uri": "https://localhost:8080/"
        },
        "id": "E4xiOaaP_hLy",
        "outputId": "5a082030-aeb2-4686-b991-0c47f814d67b"
      },
      "outputs": [
        {
          "data": {
            "text/plain": [
              "Date             0\n",
              "Closing Value    0\n",
              "dtype: int64"
            ]
          },
          "execution_count": 8,
          "metadata": {},
          "output_type": "execute_result"
        }
      ],
      "source": [
        "data.isnull().sum()"
      ]
    },
    {
      "cell_type": "code",
      "execution_count": null,
      "metadata": {
        "colab": {
          "base_uri": "https://localhost:8080/"
        },
        "id": "hCIMsLTG_mLH",
        "outputId": "e2174bb8-b283-419b-c5d3-d7e9ffa55e5a"
      },
      "outputs": [
        {
          "data": {
            "text/plain": [
              "0       25.56\n",
              "1       26.00\n",
              "2       26.53\n",
              "3       25.85\n",
              "4       25.87\n",
              "        ...  \n",
              "8211    73.89\n",
              "8212    74.19\n",
              "8213    73.05\n",
              "8214    73.78\n",
              "8215    73.93\n",
              "Name: Closing Value, Length: 8216, dtype: float64"
            ]
          },
          "execution_count": 9,
          "metadata": {},
          "output_type": "execute_result"
        }
      ],
      "source": [
        "data_oil=data.reset_index()['Closing Value']\n",
        "data_oil"
      ]
    },
    {
      "cell_type": "code",
      "execution_count": null,
      "metadata": {
        "id": "nJPq_3ep_xE-"
      },
      "outputs": [],
      "source": [
        "from sklearn.preprocessing import MinMaxScaler\n",
        "scaler=MinMaxScaler(feature_range=(0,1))\n",
        "data_oil=scaler.fit_transform(np.array(data_oil).reshape(-1,1))"
      ]
    },
    {
      "cell_type": "code",
      "execution_count": null,
      "metadata": {
        "colab": {
          "base_uri": "https://localhost:8080/"
        },
        "id": "SYKkDj5vAHem",
        "outputId": "1a0cd460-f0fa-4048-b747-bd3ed93e1fac"
      },
      "outputs": [
        {
          "data": {
            "text/plain": [
              "array([[0.11335703],\n",
              "       [0.11661484],\n",
              "       [0.12053902],\n",
              "       ...,\n",
              "       [0.46497853],\n",
              "       [0.47038353],\n",
              "       [0.47149415]])"
            ]
          },
          "execution_count": 11,
          "metadata": {},
          "output_type": "execute_result"
        }
      ],
      "source": [
        "data_oil"
      ]
    },
    {
      "cell_type": "code",
      "execution_count": null,
      "metadata": {
        "colab": {
          "base_uri": "https://localhost:8080/",
          "height": 282
        },
        "id": "NEJmc3gQAJ5F",
        "outputId": "43f960c9-7748-47e1-d218-5f4c4d91cb16"
      },
      "outputs": [
        {
          "data": {
            "text/plain": [
              "[<matplotlib.lines.Line2D at 0x7f2e8aae7250>]"
            ]
          },
          "execution_count": 12,
          "metadata": {},
          "output_type": "execute_result"
        },
        {
          "data": {
            "application/vnd.code.notebook.error": {
              "message": "Failed to execute 'atob' on 'WorkerGlobalScope': The string to be decoded is not correctly encoded.",
              "name": "InvalidCharacterError",
              "stack": "Error: Failed to execute 'atob' on 'WorkerGlobalScope': The string to be decoded is not correctly encoded.\n    at i (https://main.vscode-cdn.net/stable/6261075646f055b99068d3688932416f2346dd3b/extensions/ipynb/dist/browser/ipynbMain.js#vscode-extension:3:147807)\n    at l (https://main.vscode-cdn.net/stable/6261075646f055b99068d3688932416f2346dd3b/extensions/ipynb/dist/browser/ipynbMain.js#vscode-extension:3:148760)\n    at h (https://main.vscode-cdn.net/stable/6261075646f055b99068d3688932416f2346dd3b/extensions/ipynb/dist/browser/ipynbMain.js#vscode-extension:3:149510)\n    at Array.map (<anonymous>)\n    at eval (https://main.vscode-cdn.net/stable/6261075646f055b99068d3688932416f2346dd3b/extensions/ipynb/dist/browser/ipynbMain.js#vscode-extension:3:150678)\n    at eval (https://main.vscode-cdn.net/stable/6261075646f055b99068d3688932416f2346dd3b/extensions/ipynb/dist/browser/ipynbMain.js#vscode-extension:3:150995)\n    at eval (https://main.vscode-cdn.net/stable/6261075646f055b99068d3688932416f2346dd3b/extensions/ipynb/dist/browser/ipynbMain.js#vscode-extension:3:151002)\n    at Array.map (<anonymous>)\n    at e.jupyterNotebookModelToNotebookData (https://main.vscode-cdn.net/stable/6261075646f055b99068d3688932416f2346dd3b/extensions/ipynb/dist/browser/ipynbMain.js#vscode-extension:3:150254)\n    at e.NotebookSerializer.deserializeNotebook (https://main.vscode-cdn.net/stable/6261075646f055b99068d3688932416f2346dd3b/extensions/ipynb/dist/browser/ipynbMain.js#vscode-extension:3:160877)\n    at a.$dataToNotebook (../../../vs/workbench/api/worker/extensionHostWorker.js:76:98338)\n    at d._doInvokeHandler (../../../vs/workbench/api/worker/extensionHostWorker.js:76:216219)\n    at d._invokeHandler (../../../vs/workbench/api/worker/extensionHostWorker.js:76:215901)\n    at d._receiveRequest (../../../vs/workbench/api/worker/extensionHostWorker.js:76:214614)\n    at d._receiveOneMessage (../../../vs/workbench/api/worker/extensionHostWorker.js:76:213566)\n    at eval (../../../vs/workbench/api/worker/extensionHostWorker.js:76:211474)\n    at y.invoke (https://v--1llmjfbqf68p3iu5hfmc5sdveso3cki5pe9s36ekqdet2pqick0q.vscode-cdn.net/stable/6261075646f055b99068d3688932416f2346dd3b/out/vs/base/worker/workerMain.js:16:145)\n    at v.deliver (https://v--1llmjfbqf68p3iu5hfmc5sdveso3cki5pe9s36ekqdet2pqick0q.vscode-cdn.net/stable/6261075646f055b99068d3688932416f2346dd3b/out/vs/base/worker/workerMain.js:16:2266)\n    at F.fire (https://v--1llmjfbqf68p3iu5hfmc5sdveso3cki5pe9s36ekqdet2pqick0q.vscode-cdn.net/stable/6261075646f055b99068d3688932416f2346dd3b/out/vs/base/worker/workerMain.js:16:1844)\n    at MessagePort.c.port1.onmessage (../../../vs/workbench/api/worker/extensionHostWorker.js:83:4033)"
            },
            "text/plain": [
              "<Figure size 432x288 with 1 Axes>"
            ]
          },
          "metadata": {
            "needs_background": "light"
          },
          "output_type": "display_data"
        }
      ],
      "source": [
        "plt.plot(data_oil)"
      ]
    },
    {
      "cell_type": "code",
      "execution_count": null,
      "metadata": {
        "id": "C9pYgejLAPns"
      },
      "outputs": [],
      "source": [
        "training_size=int(len(data_oil)*0.65)\n",
        "test_size=len(data_oil)-training_size\n",
        "train_data,test_data=data_oil[0:training_size,:],data_oil[training_size:len(data_oil),:1]"
      ]
    },
    {
      "cell_type": "code",
      "execution_count": null,
      "metadata": {
        "colab": {
          "base_uri": "https://localhost:8080/"
        },
        "id": "k89wWlnmAo6U",
        "outputId": "af336bcf-8a8e-4389-c233-ac26c57a61c1"
      },
      "outputs": [
        {
          "data": {
            "text/plain": [
              "(5340, 2876)"
            ]
          },
          "execution_count": 14,
          "metadata": {},
          "output_type": "execute_result"
        }
      ],
      "source": [
        "training_size,test_size"
      ]
    },
    {
      "cell_type": "code",
      "execution_count": null,
      "metadata": {
        "colab": {
          "base_uri": "https://localhost:8080/"
        },
        "id": "hvzEBVyUAr-T",
        "outputId": "a356f237-c919-4164-e01f-a7463275449c"
      },
      "outputs": [
        {
          "data": {
            "text/plain": [
              "(5340, 1)"
            ]
          },
          "execution_count": 15,
          "metadata": {},
          "output_type": "execute_result"
        }
      ],
      "source": [
        "train_data.shape"
      ]
    },
    {
      "cell_type": "code",
      "execution_count": null,
      "metadata": {
        "id": "-YpjHQdPAu1r"
      },
      "outputs": [],
      "source": [
        "def create_dataset(dataset,time_step=1):\n",
        "  dataX,dataY=[],[]\n",
        "  for i in range(len(dataset)-time_step-1):\n",
        "    a=dataset[i:(i+time_step),0]\n",
        "    dataX.append(a)\n",
        "    dataY.append(dataset[i+time_step,0])\n",
        "  return np.array(dataX),np.array(dataY)"
      ]
    },
    {
      "cell_type": "code",
      "execution_count": null,
      "metadata": {
        "id": "DDWunzVjBOs0"
      },
      "outputs": [],
      "source": [
        "time_step=10\n",
        "x_train,y_train=create_dataset(train_data,time_step)\n",
        "x_test,y_test=create_dataset(test_data,time_step)"
      ]
    },
    {
      "cell_type": "code",
      "execution_count": null,
      "metadata": {
        "colab": {
          "base_uri": "https://localhost:8080/"
        },
        "id": "5hHUEc_WBhOZ",
        "outputId": "aea25456-6e97-40fe-ebae-33153be8ec20"
      },
      "outputs": [
        {
          "name": "stdout",
          "output_type": "stream",
          "text": [
            "(5329, 10)\n",
            "(5329,)\n"
          ]
        },
        {
          "data": {
            "text/plain": [
              "(None, None)"
            ]
          },
          "execution_count": 18,
          "metadata": {},
          "output_type": "execute_result"
        }
      ],
      "source": [
        "print(x_train.shape),print(y_train.shape)"
      ]
    },
    {
      "cell_type": "code",
      "execution_count": null,
      "metadata": {
        "colab": {
          "base_uri": "https://localhost:8080/"
        },
        "id": "-rAmRqsbBnlg",
        "outputId": "79d03fcb-a209-423c-c2a1-d240936035db"
      },
      "outputs": [
        {
          "name": "stdout",
          "output_type": "stream",
          "text": [
            "(2865, 10)\n",
            "(2865,)\n"
          ]
        },
        {
          "data": {
            "text/plain": [
              "(None, None)"
            ]
          },
          "execution_count": 19,
          "metadata": {},
          "output_type": "execute_result"
        }
      ],
      "source": [
        "print(x_test.shape),print(y_test.shape)"
      ]
    },
    {
      "cell_type": "code",
      "execution_count": null,
      "metadata": {
        "colab": {
          "base_uri": "https://localhost:8080/"
        },
        "id": "zd-z5Ib8BwGP",
        "outputId": "90542887-8fc2-458c-b22e-929f8c0bd41c"
      },
      "outputs": [
        {
          "data": {
            "text/plain": [
              "array([[0.11335703, 0.11661484, 0.12053902, ..., 0.10980305, 0.1089886 ,\n",
              "        0.11054346],\n",
              "       [0.11661484, 0.12053902, 0.11550422, ..., 0.1089886 , 0.11054346,\n",
              "        0.10165852],\n",
              "       [0.12053902, 0.11550422, 0.1156523 , ..., 0.11054346, 0.10165852,\n",
              "        0.09906708],\n",
              "       ...,\n",
              "       [0.36731823, 0.35176958, 0.36080261, ..., 0.36391234, 0.37042796,\n",
              "        0.37042796],\n",
              "       [0.35176958, 0.36080261, 0.35354657, ..., 0.37042796, 0.37042796,\n",
              "        0.37879461],\n",
              "       [0.36080261, 0.35354657, 0.35295424, ..., 0.37042796, 0.37879461,\n",
              "        0.37916482]])"
            ]
          },
          "execution_count": 20,
          "metadata": {},
          "output_type": "execute_result"
        }
      ],
      "source": [
        "x_train"
      ]
    },
    {
      "cell_type": "code",
      "execution_count": null,
      "metadata": {
        "id": "BsJsc-dzBzPI"
      },
      "outputs": [],
      "source": [
        "x_train=x_train.reshape(x_train.shape[0],x_train.shape[1],1)\n",
        "x_test=x_test.reshape(x_test.shape[0],x_test.shape[1],1)"
      ]
    },
    {
      "cell_type": "code",
      "execution_count": null,
      "metadata": {
        "id": "Nti1iMdXCFHH"
      },
      "outputs": [],
      "source": [
        "from tensorflow.keras.models import Sequential\n",
        "from tensorflow.keras.layers import Dense\n",
        "from tensorflow.keras.layers import LSTM"
      ]
    },
    {
      "cell_type": "code",
      "execution_count": null,
      "metadata": {
        "id": "5Bbk8sA6CWWd"
      },
      "outputs": [],
      "source": [
        "model=Sequential()"
      ]
    },
    {
      "cell_type": "code",
      "execution_count": null,
      "metadata": {
        "id": "gciW66VECcKl"
      },
      "outputs": [],
      "source": [
        "model.add(LSTM(50,return_sequences=True,input_shape=(10,1)))\n",
        "model.add(LSTM(50,return_sequences=True))\n",
        "model.add(LSTM(50))"
      ]
    },
    {
      "cell_type": "code",
      "execution_count": null,
      "metadata": {
        "id": "PI_o_1SNC0jV"
      },
      "outputs": [],
      "source": [
        "model.add(Dense(1))"
      ]
    },
    {
      "cell_type": "code",
      "execution_count": null,
      "metadata": {
        "colab": {
          "base_uri": "https://localhost:8080/"
        },
        "id": "y_QQbjo2C7z0",
        "outputId": "ecd997a8-231d-4d4c-c495-fc020a381466"
      },
      "outputs": [
        {
          "name": "stdout",
          "output_type": "stream",
          "text": [
            "Model: \"sequential\"\n",
            "_________________________________________________________________\n",
            " Layer (type)                Output Shape              Param #   \n",
            "=================================================================\n",
            " lstm (LSTM)                 (None, 10, 50)            10400     \n",
            "                                                                 \n",
            " lstm_1 (LSTM)               (None, 10, 50)            20200     \n",
            "                                                                 \n",
            " lstm_2 (LSTM)               (None, 50)                20200     \n",
            "                                                                 \n",
            " dense (Dense)               (None, 1)                 51        \n",
            "                                                                 \n",
            "=================================================================\n",
            "Total params: 50,851\n",
            "Trainable params: 50,851\n",
            "Non-trainable params: 0\n",
            "_________________________________________________________________\n"
          ]
        }
      ],
      "source": [
        "model.summary()"
      ]
    },
    {
      "cell_type": "code",
      "execution_count": null,
      "metadata": {
        "id": "9-EcjJXFDAvc"
      },
      "outputs": [],
      "source": [
        "model.compile(loss='mean_squared_error',optimizer='adam')"
      ]
    },
    {
      "cell_type": "code",
      "execution_count": null,
      "metadata": {
        "colab": {
          "base_uri": "https://localhost:8080/"
        },
        "id": "Jmk2fEa4DItV",
        "outputId": "5533ed7e-ab81-4b5a-a0bb-e86e0399a05d"
      },
      "outputs": [
        {
          "name": "stdout",
          "output_type": "stream",
          "text": [
            "Epoch 1/3\n",
            "84/84 [==============================] - 6s 25ms/step - loss: 0.0017 - val_loss: 0.0011\n",
            "Epoch 2/3\n",
            "84/84 [==============================] - 1s 16ms/step - loss: 1.2375e-04 - val_loss: 7.8338e-04\n",
            "Epoch 3/3\n",
            "84/84 [==============================] - 1s 16ms/step - loss: 1.2058e-04 - val_loss: 7.5010e-04\n"
          ]
        },
        {
          "data": {
            "text/plain": [
              "<keras.callbacks.History at 0x7f2e2b3da490>"
            ]
          },
          "execution_count": 28,
          "metadata": {},
          "output_type": "execute_result"
        }
      ],
      "source": [
        "model.fit(x_train,y_train,validation_data=(x_test,y_test),epochs=3,batch_size=64,verbose=1)"
      ]
    },
    {
      "cell_type": "code",
      "execution_count": null,
      "metadata": {
        "colab": {
          "base_uri": "https://localhost:8080/"
        },
        "id": "vtdx97vxH4hF",
        "outputId": "dd7ecc10-c73c-4005-f15b-4bdfc7d710f7"
      },
      "outputs": [
        {
          "data": {
            "text/plain": [
              "29.347830443269938"
            ]
          },
          "execution_count": 29,
          "metadata": {},
          "output_type": "execute_result"
        }
      ],
      "source": [
        "##Transformback to original form\n",
        "train_predict=scaler.inverse_transform(train_data) \n",
        "test_predict=scaler.inverse_transform(test_data)\n",
        "### Calculate RMSE performance metrics\n",
        "import math \n",
        "from sklearn.metrics import mean_squared_error\n",
        "math.sqrt(mean_squared_error(train_data,train_predict))"
      ]
    },
    {
      "cell_type": "code",
      "execution_count": null,
      "metadata": {
        "id": "BBanpJ69H6Hh"
      },
      "outputs": [],
      "source": [
        "from tensorflow.keras.models import load_model"
      ]
    },
    {
      "cell_type": "code",
      "execution_count": null,
      "metadata": {
        "colab": {
          "base_uri": "https://localhost:8080/"
        },
        "id": "jYCE9HozIqOa",
        "outputId": "8d32e61b-d127-4314-9645-234793b3be28"
      },
      "outputs": [
        {
          "name": "stderr",
          "output_type": "stream",
          "text": [
            "WARNING:absl:Found untraced functions such as lstm_cell_layer_call_fn, lstm_cell_layer_call_and_return_conditional_losses, lstm_cell_1_layer_call_fn, lstm_cell_1_layer_call_and_return_conditional_losses, lstm_cell_2_layer_call_fn while saving (showing 5 of 6). These functions will not be directly callable after loading.\n",
            "WARNING:absl:<keras.layers.recurrent.LSTMCell object at 0x7f2e2f939a10> has the same name 'LSTMCell' as a built-in Keras object. Consider renaming <class 'keras.layers.recurrent.LSTMCell'> to avoid naming conflicts when loading with `tf.keras.models.load_model`. If renaming is not possible, pass the object in the `custom_objects` parameter of the load function.\n",
            "WARNING:absl:<keras.layers.recurrent.LSTMCell object at 0x7f2e2b60bf90> has the same name 'LSTMCell' as a built-in Keras object. Consider renaming <class 'keras.layers.recurrent.LSTMCell'> to avoid naming conflicts when loading with `tf.keras.models.load_model`. If renaming is not possible, pass the object in the `custom_objects` parameter of the load function.\n",
            "WARNING:absl:<keras.layers.recurrent.LSTMCell object at 0x7f2e2b510cd0> has the same name 'LSTMCell' as a built-in Keras object. Consider renaming <class 'keras.layers.recurrent.LSTMCell'> to avoid naming conflicts when loading with `tf.keras.models.load_model`. If renaming is not possible, pass the object in the `custom_objects` parameter of the load function.\n"
          ]
        }
      ],
      "source": [
        "model.save(\"crude_oil.hs\")"
      ]
    },
    {
      "cell_type": "code",
      "execution_count": null,
      "metadata": {
        "colab": {
          "base_uri": "https://localhost:8080/",
          "height": 265
        },
        "id": "L-6vXuAYJkcu",
        "outputId": "c930fefd-934e-4926-89ab-930666200083"
      },
      "outputs": [
        {
          "data": {
            "application/vnd.code.notebook.error": {
              "message": "Failed to execute 'atob' on 'WorkerGlobalScope': The string to be decoded is not correctly encoded.",
              "name": "InvalidCharacterError",
              "stack": "Error: Failed to execute 'atob' on 'WorkerGlobalScope': The string to be decoded is not correctly encoded.\n    at i (https://main.vscode-cdn.net/stable/6261075646f055b99068d3688932416f2346dd3b/extensions/ipynb/dist/browser/ipynbMain.js#vscode-extension:3:147807)\n    at l (https://main.vscode-cdn.net/stable/6261075646f055b99068d3688932416f2346dd3b/extensions/ipynb/dist/browser/ipynbMain.js#vscode-extension:3:148760)\n    at h (https://main.vscode-cdn.net/stable/6261075646f055b99068d3688932416f2346dd3b/extensions/ipynb/dist/browser/ipynbMain.js#vscode-extension:3:149510)\n    at Array.map (<anonymous>)\n    at eval (https://main.vscode-cdn.net/stable/6261075646f055b99068d3688932416f2346dd3b/extensions/ipynb/dist/browser/ipynbMain.js#vscode-extension:3:150678)\n    at eval (https://main.vscode-cdn.net/stable/6261075646f055b99068d3688932416f2346dd3b/extensions/ipynb/dist/browser/ipynbMain.js#vscode-extension:3:150995)\n    at eval (https://main.vscode-cdn.net/stable/6261075646f055b99068d3688932416f2346dd3b/extensions/ipynb/dist/browser/ipynbMain.js#vscode-extension:3:151002)\n    at Array.map (<anonymous>)\n    at e.jupyterNotebookModelToNotebookData (https://main.vscode-cdn.net/stable/6261075646f055b99068d3688932416f2346dd3b/extensions/ipynb/dist/browser/ipynbMain.js#vscode-extension:3:150254)\n    at e.NotebookSerializer.deserializeNotebook (https://main.vscode-cdn.net/stable/6261075646f055b99068d3688932416f2346dd3b/extensions/ipynb/dist/browser/ipynbMain.js#vscode-extension:3:160877)\n    at a.$dataToNotebook (../../../vs/workbench/api/worker/extensionHostWorker.js:76:98338)\n    at d._doInvokeHandler (../../../vs/workbench/api/worker/extensionHostWorker.js:76:216219)\n    at d._invokeHandler (../../../vs/workbench/api/worker/extensionHostWorker.js:76:215901)\n    at d._receiveRequest (../../../vs/workbench/api/worker/extensionHostWorker.js:76:214614)\n    at d._receiveOneMessage (../../../vs/workbench/api/worker/extensionHostWorker.js:76:213566)\n    at eval (../../../vs/workbench/api/worker/extensionHostWorker.js:76:211474)\n    at y.invoke (https://v--1llmjfbqf68p3iu5hfmc5sdveso3cki5pe9s36ekqdet2pqick0q.vscode-cdn.net/stable/6261075646f055b99068d3688932416f2346dd3b/out/vs/base/worker/workerMain.js:16:145)\n    at v.deliver (https://v--1llmjfbqf68p3iu5hfmc5sdveso3cki5pe9s36ekqdet2pqick0q.vscode-cdn.net/stable/6261075646f055b99068d3688932416f2346dd3b/out/vs/base/worker/workerMain.js:16:2266)\n    at F.fire (https://v--1llmjfbqf68p3iu5hfmc5sdveso3cki5pe9s36ekqdet2pqick0q.vscode-cdn.net/stable/6261075646f055b99068d3688932416f2346dd3b/out/vs/base/worker/workerMain.js:16:1844)\n    at MessagePort.c.port1.onmessage (../../../vs/workbench/api/worker/extensionHostWorker.js:83:4033)"
            },
            "text/plain": [
              "<Figure size 432x288 with 1 Axes>"
            ]
          },
          "metadata": {
            "needs_background": "light"
          },
          "output_type": "display_data"
        }
      ],
      "source": [
        "### Plotting\n",
        "look_back=10\n",
        "trainpredictPlot = np.empty_like(data_oil)\n",
        "trainpredictPlot[:, :]= np.nan\n",
        "trainpredictPlot[look_back:len(train_predict)+look_back, :] = train_predict\n",
        "# shift test predictions for plotting\n",
        "testPredictplot = np.empty_like(data_oil)\n",
        "testPredictplot[:,: ] = np.nan\n",
        "testPredictplot[look_back:len(test_predict)+look_back, :] = test_predict\n",
        "# plot baseline and predictions\n",
        "plt.plot(scaler.inverse_transform(data_oil))\n",
        "plt.show()"
      ]
    },
    {
      "cell_type": "code",
      "execution_count": null,
      "metadata": {
        "colab": {
          "base_uri": "https://localhost:8080/"
        },
        "id": "g_YckjXtLJNC",
        "outputId": "d81bb2c6-e49a-42c1-cdb3-b5145a73c130"
      },
      "outputs": [
        {
          "data": {
            "text/plain": [
              "2876"
            ]
          },
          "execution_count": 33,
          "metadata": {},
          "output_type": "execute_result"
        }
      ],
      "source": [
        "len(test_data)"
      ]
    },
    {
      "cell_type": "code",
      "execution_count": null,
      "metadata": {
        "colab": {
          "base_uri": "https://localhost:8080/"
        },
        "id": "RgawVIleLW-v",
        "outputId": "84eceae5-f4e4-4376-fbb8-9714c26300c4"
      },
      "outputs": [
        {
          "data": {
            "text/plain": [
              "(1, 10)"
            ]
          },
          "execution_count": 34,
          "metadata": {},
          "output_type": "execute_result"
        }
      ],
      "source": [
        "x_input=test_data[2866:].reshape(1,-1)\n",
        "x_input.shape"
      ]
    },
    {
      "cell_type": "code",
      "execution_count": null,
      "metadata": {
        "id": "1g1Iu241LcWh"
      },
      "outputs": [],
      "source": [
        "temp_input=list(x_input) \n",
        "temp_input=temp_input[0].tolist()"
      ]
    },
    {
      "cell_type": "code",
      "execution_count": null,
      "metadata": {
        "colab": {
          "base_uri": "https://localhost:8080/"
        },
        "id": "529unKThLeVQ",
        "outputId": "135943b3-ea30-4d6c-fe1d-5beea39a94bc"
      },
      "outputs": [
        {
          "data": {
            "text/plain": [
              "[0.44172960165852215,\n",
              " 0.48111950244335855,\n",
              " 0.49726047682511476,\n",
              " 0.4679401747371539,\n",
              " 0.4729749740855915,\n",
              " 0.47119798608026064,\n",
              " 0.47341922108692425,\n",
              " 0.4649785280616022,\n",
              " 0.4703835332444839,\n",
              " 0.47149415074781587]"
            ]
          },
          "execution_count": 36,
          "metadata": {},
          "output_type": "execute_result"
        }
      ],
      "source": [
        "temp_input"
      ]
    },
    {
      "cell_type": "code",
      "execution_count": null,
      "metadata": {
        "colab": {
          "base_uri": "https://localhost:8080/"
        },
        "id": "ULCbP4K1LlBQ",
        "outputId": "6947d757-5897-4056-d132-215b0b9e2843"
      },
      "outputs": [
        {
          "name": "stdout",
          "output_type": "stream",
          "text": [
            "[0.47442466]\n",
            "11\n",
            "1 day input [0.4811195  0.49726048 0.46794017 0.47297497 0.47119799 0.47341922\n",
            " 0.46497853 0.47038353 0.47149415 0.47442466]\n",
            "1 day output [[0.47781762]]\n",
            "2 day input [0.49726048 0.46794017 0.47297497 0.47119799 0.47341922 0.46497853\n",
            " 0.47038353 0.47149415 0.47442466 0.47781762]\n",
            "2 day output [[0.47653615]]\n",
            "3 day input [0.46794017 0.47297497 0.47119799 0.47341922 0.46497853 0.47038353\n",
            " 0.47149415 0.47442466 0.47781762 0.47653615]\n",
            "3 day output [[0.47364426]]\n",
            "4 day input [0.47297497 0.47119799 0.47341922 0.46497853 0.47038353 0.47149415\n",
            " 0.47442466 0.47781762 0.47653615 0.47364426]\n",
            "4 day output [[0.47442248]]\n",
            "5 day input [0.47119799 0.47341922 0.46497853 0.47038353 0.47149415 0.47442466\n",
            " 0.47781762 0.47653615 0.47364426 0.47442248]\n",
            "5 day output [[0.47467044]]\n",
            "6 day input [0.47341922 0.46497853 0.47038353 0.47149415 0.47442466 0.47781762\n",
            " 0.47653615 0.47364426 0.47442248 0.47467044]\n",
            "6 day output [[0.47518066]]\n",
            "7 day input [0.46497853 0.47038353 0.47149415 0.47442466 0.47781762 0.47653615\n",
            " 0.47364426 0.47442248 0.47467044 0.47518066]\n",
            "7 day output [[0.47546706]]\n",
            "8 day input [0.47038353 0.47149415 0.47442466 0.47781762 0.47653615 0.47364426\n",
            " 0.47442248 0.47467044 0.47518066 0.47546706]\n",
            "8 day output [[0.4767432]]\n",
            "9 day input [0.47149415 0.47442466 0.47781762 0.47653615 0.47364426 0.47442248\n",
            " 0.47467044 0.47518066 0.47546706 0.47674319]\n",
            "9 day output [[0.47736228]]\n"
          ]
        }
      ],
      "source": [
        "lst_output=[]\n",
        "n_steps=10\n",
        "i=0\n",
        "while(i<10):\n",
        "    if(len(temp_input)>10):\n",
        "#print(temp_input)\n",
        "       x_input=np.array(temp_input[1:]) \n",
        "       print(\"{} day input {}\".format(i,x_input))\n",
        "       x_input=x_input.reshape(1,-1)\n",
        "       x_input = x_input.reshape((1, n_steps, 1)) #print(x_input)\n",
        "       yhat = model.predict(x_input, verbose=0)\n",
        "       print(\"{} day output {}\".format(i,yhat))\n",
        "       temp_input.extend(yhat[0].tolist())\n",
        "       temp_input=temp_input[1:] #print(temp_input)\n",
        "       lst_output.extend(yhat.tolist())\n",
        "       i=i+1\n",
        "    else:\n",
        "       x_input = x_input.reshape((1, n_steps,1))\n",
        "       yhat = model.predict(x_input, verbose=0)\n",
        "       print(yhat[0])\n",
        "       temp_input.extend(yhat[0].tolist()) \n",
        "       print(len(temp_input))\n",
        "       lst_output.extend(yhat.tolist())\n",
        "       i=i+1"
      ]
    },
    {
      "cell_type": "code",
      "execution_count": null,
      "metadata": {
        "colab": {
          "base_uri": "https://localhost:8080/",
          "height": 282
        },
        "id": "0O0jGgIjL67v",
        "outputId": "c2e74268-f353-4dcb-b101-b9421d92ae59"
      },
      "outputs": [
        {
          "data": {
            "text/plain": [
              "[<matplotlib.lines.Line2D at 0x7f2e26c59e50>]"
            ]
          },
          "execution_count": 38,
          "metadata": {},
          "output_type": "execute_result"
        },
        {
          "data": {
            "application/vnd.code.notebook.error": {
              "message": "Failed to execute 'atob' on 'WorkerGlobalScope': The string to be decoded is not correctly encoded.",
              "name": "InvalidCharacterError",
              "stack": "Error: Failed to execute 'atob' on 'WorkerGlobalScope': The string to be decoded is not correctly encoded.\n    at i (https://main.vscode-cdn.net/stable/6261075646f055b99068d3688932416f2346dd3b/extensions/ipynb/dist/browser/ipynbMain.js#vscode-extension:3:147807)\n    at l (https://main.vscode-cdn.net/stable/6261075646f055b99068d3688932416f2346dd3b/extensions/ipynb/dist/browser/ipynbMain.js#vscode-extension:3:148760)\n    at h (https://main.vscode-cdn.net/stable/6261075646f055b99068d3688932416f2346dd3b/extensions/ipynb/dist/browser/ipynbMain.js#vscode-extension:3:149510)\n    at Array.map (<anonymous>)\n    at eval (https://main.vscode-cdn.net/stable/6261075646f055b99068d3688932416f2346dd3b/extensions/ipynb/dist/browser/ipynbMain.js#vscode-extension:3:150678)\n    at eval (https://main.vscode-cdn.net/stable/6261075646f055b99068d3688932416f2346dd3b/extensions/ipynb/dist/browser/ipynbMain.js#vscode-extension:3:150995)\n    at eval (https://main.vscode-cdn.net/stable/6261075646f055b99068d3688932416f2346dd3b/extensions/ipynb/dist/browser/ipynbMain.js#vscode-extension:3:151002)\n    at Array.map (<anonymous>)\n    at e.jupyterNotebookModelToNotebookData (https://main.vscode-cdn.net/stable/6261075646f055b99068d3688932416f2346dd3b/extensions/ipynb/dist/browser/ipynbMain.js#vscode-extension:3:150254)\n    at e.NotebookSerializer.deserializeNotebook (https://main.vscode-cdn.net/stable/6261075646f055b99068d3688932416f2346dd3b/extensions/ipynb/dist/browser/ipynbMain.js#vscode-extension:3:160877)\n    at a.$dataToNotebook (../../../vs/workbench/api/worker/extensionHostWorker.js:76:98338)\n    at d._doInvokeHandler (../../../vs/workbench/api/worker/extensionHostWorker.js:76:216219)\n    at d._invokeHandler (../../../vs/workbench/api/worker/extensionHostWorker.js:76:215901)\n    at d._receiveRequest (../../../vs/workbench/api/worker/extensionHostWorker.js:76:214614)\n    at d._receiveOneMessage (../../../vs/workbench/api/worker/extensionHostWorker.js:76:213566)\n    at eval (../../../vs/workbench/api/worker/extensionHostWorker.js:76:211474)\n    at y.invoke (https://v--1llmjfbqf68p3iu5hfmc5sdveso3cki5pe9s36ekqdet2pqick0q.vscode-cdn.net/stable/6261075646f055b99068d3688932416f2346dd3b/out/vs/base/worker/workerMain.js:16:145)\n    at v.deliver (https://v--1llmjfbqf68p3iu5hfmc5sdveso3cki5pe9s36ekqdet2pqick0q.vscode-cdn.net/stable/6261075646f055b99068d3688932416f2346dd3b/out/vs/base/worker/workerMain.js:16:2266)\n    at F.fire (https://v--1llmjfbqf68p3iu5hfmc5sdveso3cki5pe9s36ekqdet2pqick0q.vscode-cdn.net/stable/6261075646f055b99068d3688932416f2346dd3b/out/vs/base/worker/workerMain.js:16:1844)\n    at MessagePort.c.port1.onmessage (../../../vs/workbench/api/worker/extensionHostWorker.js:83:4033)"
            },
            "text/plain": [
              "<Figure size 432x288 with 1 Axes>"
            ]
          },
          "metadata": {
            "needs_background": "light"
          },
          "output_type": "display_data"
        }
      ],
      "source": [
        "day_new=np.arange(1,11) \n",
        "day_pred=np.arange(11,21)\n",
        "len(data_oil)\n",
        "plt.plot(day_new, scaler.inverse_transform(data_oil[8206:])) \n",
        "plt.plot(day_pred, scaler.inverse_transform(lst_output))"
      ]
    },
    {
      "cell_type": "code",
      "execution_count": null,
      "metadata": {
        "colab": {
          "base_uri": "https://localhost:8080/",
          "height": 282
        },
        "id": "SR0uR3ytMD7f",
        "outputId": "3f10071c-24cf-4b39-9fc4-0a60aefbb4bc"
      },
      "outputs": [
        {
          "data": {
            "text/plain": [
              "[<matplotlib.lines.Line2D at 0x7f2e26bec890>]"
            ]
          },
          "execution_count": 39,
          "metadata": {},
          "output_type": "execute_result"
        },
        {
          "data": {
            "application/vnd.code.notebook.error": {
              "message": "Failed to execute 'atob' on 'WorkerGlobalScope': The string to be decoded is not correctly encoded.",
              "name": "InvalidCharacterError",
              "stack": "Error: Failed to execute 'atob' on 'WorkerGlobalScope': The string to be decoded is not correctly encoded.\n    at i (https://main.vscode-cdn.net/stable/6261075646f055b99068d3688932416f2346dd3b/extensions/ipynb/dist/browser/ipynbMain.js#vscode-extension:3:147807)\n    at l (https://main.vscode-cdn.net/stable/6261075646f055b99068d3688932416f2346dd3b/extensions/ipynb/dist/browser/ipynbMain.js#vscode-extension:3:148760)\n    at h (https://main.vscode-cdn.net/stable/6261075646f055b99068d3688932416f2346dd3b/extensions/ipynb/dist/browser/ipynbMain.js#vscode-extension:3:149510)\n    at Array.map (<anonymous>)\n    at eval (https://main.vscode-cdn.net/stable/6261075646f055b99068d3688932416f2346dd3b/extensions/ipynb/dist/browser/ipynbMain.js#vscode-extension:3:150678)\n    at eval (https://main.vscode-cdn.net/stable/6261075646f055b99068d3688932416f2346dd3b/extensions/ipynb/dist/browser/ipynbMain.js#vscode-extension:3:150995)\n    at eval (https://main.vscode-cdn.net/stable/6261075646f055b99068d3688932416f2346dd3b/extensions/ipynb/dist/browser/ipynbMain.js#vscode-extension:3:151002)\n    at Array.map (<anonymous>)\n    at e.jupyterNotebookModelToNotebookData (https://main.vscode-cdn.net/stable/6261075646f055b99068d3688932416f2346dd3b/extensions/ipynb/dist/browser/ipynbMain.js#vscode-extension:3:150254)\n    at e.NotebookSerializer.deserializeNotebook (https://main.vscode-cdn.net/stable/6261075646f055b99068d3688932416f2346dd3b/extensions/ipynb/dist/browser/ipynbMain.js#vscode-extension:3:160877)\n    at a.$dataToNotebook (../../../vs/workbench/api/worker/extensionHostWorker.js:76:98338)\n    at d._doInvokeHandler (../../../vs/workbench/api/worker/extensionHostWorker.js:76:216219)\n    at d._invokeHandler (../../../vs/workbench/api/worker/extensionHostWorker.js:76:215901)\n    at d._receiveRequest (../../../vs/workbench/api/worker/extensionHostWorker.js:76:214614)\n    at d._receiveOneMessage (../../../vs/workbench/api/worker/extensionHostWorker.js:76:213566)\n    at eval (../../../vs/workbench/api/worker/extensionHostWorker.js:76:211474)\n    at y.invoke (https://v--1llmjfbqf68p3iu5hfmc5sdveso3cki5pe9s36ekqdet2pqick0q.vscode-cdn.net/stable/6261075646f055b99068d3688932416f2346dd3b/out/vs/base/worker/workerMain.js:16:145)\n    at v.deliver (https://v--1llmjfbqf68p3iu5hfmc5sdveso3cki5pe9s36ekqdet2pqick0q.vscode-cdn.net/stable/6261075646f055b99068d3688932416f2346dd3b/out/vs/base/worker/workerMain.js:16:2266)\n    at F.fire (https://v--1llmjfbqf68p3iu5hfmc5sdveso3cki5pe9s36ekqdet2pqick0q.vscode-cdn.net/stable/6261075646f055b99068d3688932416f2346dd3b/out/vs/base/worker/workerMain.js:16:1844)\n    at MessagePort.c.port1.onmessage (../../../vs/workbench/api/worker/extensionHostWorker.js:83:4033)"
            },
            "text/plain": [
              "<Figure size 432x288 with 1 Axes>"
            ]
          },
          "metadata": {
            "needs_background": "light"
          },
          "output_type": "display_data"
        }
      ],
      "source": [
        "df3=data_oil.tolist() \n",
        "df3.extend(lst_output) \n",
        "plt.plot(df3[8100:])"
      ]
    },
    {
      "cell_type": "code",
      "execution_count": null,
      "metadata": {
        "id": "qVvbsTl2MHyJ"
      },
      "outputs": [],
      "source": [
        "df3=scaler.inverse_transform(df3).tolist()"
      ]
    },
    {
      "cell_type": "code",
      "execution_count": null,
      "metadata": {
        "colab": {
          "base_uri": "https://localhost:8080/",
          "height": 282
        },
        "id": "fY2QI3mJRQfn",
        "outputId": "6646f50f-420a-4a99-bb86-e47562b84513"
      },
      "outputs": [
        {
          "data": {
            "text/plain": [
              "[<matplotlib.lines.Line2D at 0x7f2e25114490>]"
            ]
          },
          "execution_count": 41,
          "metadata": {},
          "output_type": "execute_result"
        },
        {
          "data": {
            "application/vnd.code.notebook.error": {
              "message": "Failed to execute 'atob' on 'WorkerGlobalScope': The string to be decoded is not correctly encoded.",
              "name": "InvalidCharacterError",
              "stack": "Error: Failed to execute 'atob' on 'WorkerGlobalScope': The string to be decoded is not correctly encoded.\n    at i (https://main.vscode-cdn.net/stable/6261075646f055b99068d3688932416f2346dd3b/extensions/ipynb/dist/browser/ipynbMain.js#vscode-extension:3:147807)\n    at l (https://main.vscode-cdn.net/stable/6261075646f055b99068d3688932416f2346dd3b/extensions/ipynb/dist/browser/ipynbMain.js#vscode-extension:3:148760)\n    at h (https://main.vscode-cdn.net/stable/6261075646f055b99068d3688932416f2346dd3b/extensions/ipynb/dist/browser/ipynbMain.js#vscode-extension:3:149510)\n    at Array.map (<anonymous>)\n    at eval (https://main.vscode-cdn.net/stable/6261075646f055b99068d3688932416f2346dd3b/extensions/ipynb/dist/browser/ipynbMain.js#vscode-extension:3:150678)\n    at eval (https://main.vscode-cdn.net/stable/6261075646f055b99068d3688932416f2346dd3b/extensions/ipynb/dist/browser/ipynbMain.js#vscode-extension:3:150995)\n    at eval (https://main.vscode-cdn.net/stable/6261075646f055b99068d3688932416f2346dd3b/extensions/ipynb/dist/browser/ipynbMain.js#vscode-extension:3:151002)\n    at Array.map (<anonymous>)\n    at e.jupyterNotebookModelToNotebookData (https://main.vscode-cdn.net/stable/6261075646f055b99068d3688932416f2346dd3b/extensions/ipynb/dist/browser/ipynbMain.js#vscode-extension:3:150254)\n    at e.NotebookSerializer.deserializeNotebook (https://main.vscode-cdn.net/stable/6261075646f055b99068d3688932416f2346dd3b/extensions/ipynb/dist/browser/ipynbMain.js#vscode-extension:3:160877)\n    at a.$dataToNotebook (../../../vs/workbench/api/worker/extensionHostWorker.js:76:98338)\n    at d._doInvokeHandler (../../../vs/workbench/api/worker/extensionHostWorker.js:76:216219)\n    at d._invokeHandler (../../../vs/workbench/api/worker/extensionHostWorker.js:76:215901)\n    at d._receiveRequest (../../../vs/workbench/api/worker/extensionHostWorker.js:76:214614)\n    at d._receiveOneMessage (../../../vs/workbench/api/worker/extensionHostWorker.js:76:213566)\n    at eval (../../../vs/workbench/api/worker/extensionHostWorker.js:76:211474)\n    at y.invoke (https://v--1llmjfbqf68p3iu5hfmc5sdveso3cki5pe9s36ekqdet2pqick0q.vscode-cdn.net/stable/6261075646f055b99068d3688932416f2346dd3b/out/vs/base/worker/workerMain.js:16:145)\n    at v.deliver (https://v--1llmjfbqf68p3iu5hfmc5sdveso3cki5pe9s36ekqdet2pqick0q.vscode-cdn.net/stable/6261075646f055b99068d3688932416f2346dd3b/out/vs/base/worker/workerMain.js:16:2266)\n    at F.fire (https://v--1llmjfbqf68p3iu5hfmc5sdveso3cki5pe9s36ekqdet2pqick0q.vscode-cdn.net/stable/6261075646f055b99068d3688932416f2346dd3b/out/vs/base/worker/workerMain.js:16:1844)\n    at MessagePort.c.port1.onmessage (../../../vs/workbench/api/worker/extensionHostWorker.js:83:4033)"
            },
            "text/plain": [
              "<Figure size 432x288 with 1 Axes>"
            ]
          },
          "metadata": {
            "needs_background": "light"
          },
          "output_type": "display_data"
        }
      ],
      "source": [
        "plt.plot(scaler.inverse_transform(data_oil))"
      ]
    }
  ],
  "metadata": {
    "colab": {
      "collapsed_sections": [],
      "provenance": []
    },
    "kernelspec": {
      "display_name": "Python 3",
      "name": "python3"
    },
    "language_info": {
      "name": "python"
    }
  },
  "nbformat": 4,
  "nbformat_minor": 0
}
