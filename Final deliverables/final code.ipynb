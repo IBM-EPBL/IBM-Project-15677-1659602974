{
  "cells": [
    {
      "cell_type": "markdown",
      "metadata": {
        "id": "ik_E7BDtMrRc"
      },
      "source": [
        "Data Preprocessing "
      ]
    },
    {
      "cell_type": "code",
      "execution_count": 1,
      "metadata": {
        "colab": {
          "base_uri": "https://localhost:8080/"
        },
        "id": "KNAry8LsMip1",
        "outputId": "053da62d-84e8-4d32-fed7-d4172a55508a"
      },
      "outputs": [
        {
          "name": "stdout",
          "output_type": "stream",
          "text": [
            "Looking in indexes: https://pypi.org/simple, https://us-python.pkg.dev/colab-wheels/public/simple/\n",
            "Collecting ibm-cos-sdk\n",
            "  Downloading ibm-cos-sdk-2.12.0.tar.gz (55 kB)\n",
            "Collecting ibm-cos-sdk-core==2.12.0\n",
            "  Downloading ibm-cos-sdk-core-2.12.0.tar.gz (956 kB)\n",
            "Collecting ibm-cos-sdk-s3transfer==2.12.0\n",
            "  Downloading ibm-cos-sdk-s3transfer-2.12.0.tar.gz (135 kB)\n",
            "Collecting jmespath<1.0.0,>=0.10.0\n",
            "  Downloading jmespath-0.10.0-py2.py3-none-any.whl (24 kB)\n",
            "Collecting requests<3.0,>=2.27.1\n",
            "  Downloading requests-2.28.1-py3-none-any.whl (62 kB)\n",
            "Collecting urllib3<1.27,>=1.26.9\n",
            "  Downloading urllib3-1.26.12-py2.py3-none-any.whl (140 kB)\n",
            "Building wheels for collected packages: ibm-cos-sdk, ibm-cos-sdk-core, ibm-cos-sdk-s3transfer\n",
            "  Building wheel for ibm-cos-sdk (setup.py): started\n",
            "  Building wheel for ibm-cos-sdk (setup.py): finished with status 'done'\n",
            "  Created wheel for ibm-cos-sdk: filename=ibm_cos_sdk-2.12.0-py3-none-any.whl size=73931 sha256=416e0850465f4799ceb56b49bc046d7f0c1d38a13faec1c157072288c6685245\n",
            "  Stored in directory: /root/.cache/pip/wheels/ec/94/29/2b57327cf00664b6614304f7958abd29d77ea0e5bbece2ea57\n",
            "  Building wheel for ibm-cos-sdk-core (setup.py): started\n",
            "  Building wheel for ibm-cos-sdk-core (setup.py): finished with status 'done'\n",
            "  Created wheel for ibm-cos-sdk-core: filename=ibm_cos_sdk_core-2.12.0-py3-none-any.whl size=562962 sha256=c2500efd0c1ba2b22286e215f4297ec17b63073792bdba56b8d26f61710f1348\n",
            "  Stored in directory: /root/.cache/pip/wheels/64/56/fb/5cd6f4f40406c828a5289b95b2752a4d142a9afb359244ed8d\n",
            "  Building wheel for ibm-cos-sdk-s3transfer (setup.py): started\n",
            "  Building wheel for ibm-cos-sdk-s3transfer (setup.py): finished with status 'done'\n",
            "  Created wheel for ibm-cos-sdk-s3transfer: filename=ibm_cos_sdk_s3transfer-2.12.0-py3-none-any.whl size=89778 sha256=a58f7d7bcca86c135253486ba21566d2aa1d84024a3722e2fab598f69784cc13\n",
            "  Stored in directory: /root/.cache/pip/wheels/57/79/6a/ffe3370ed7ebc00604f9f76766e1e0348dcdcad2b2e32df9e1\n",
            "Successfully built ibm-cos-sdk ibm-cos-sdk-core ibm-cos-sdk-s3transfer\n",
            "Installing collected packages: urllib3, requests, jmespath, ibm-cos-sdk-core, ibm-cos-sdk-s3transfer, ibm-cos-sdk\n",
            "  Attempting uninstall: urllib3\n",
            "    Found existing installation: urllib3 1.24.3\n",
            "    Uninstalling urllib3-1.24.3:\n",
            "      Successfully uninstalled urllib3-1.24.3\n",
            "  Attempting uninstall: requests\n",
            "    Found existing installation: requests 2.23.0\n",
            "    Uninstalling requests-2.23.0:\n",
            "      Successfully uninstalled requests-2.23.0\n",
            "Successfully installed ibm-cos-sdk-2.12.0 ibm-cos-sdk-core-2.12.0 ibm-cos-sdk-s3transfer-2.12.0 jmespath-0.10.0 requests-2.28.1 urllib3-1.26.12\n"
          ]
        }
      ],
      "source": [
        "!pip install ibm-cos-sdk | grep -v 'already satisfied'\n",
        "import ibm_boto3\n",
        "from ibm_botocore.client import Config\n",
        "import pandas as pd\n",
        "import numpy as np\n",
        "import io, datetime\n",
        "import matplotlib.pyplot as plt\n",
        "import seaborn as sns\n",
        "import statsmodels.api as sm\n",
        "from pylab import rcParams\n",
        "from sklearn.preprocessing import MinMaxScaler"
      ]
    },
    {
      "cell_type": "markdown",
      "metadata": {
        "id": "5WMe2-XeM7Wt"
      },
      "source": [
        "Import Data Set\n"
      ]
    },
    {
      "cell_type": "code",
      "execution_count": 2,
      "metadata": {
        "colab": {
          "base_uri": "https://localhost:8080/",
          "height": 206
        },
        "id": "eXG3RERCM6J7",
        "outputId": "2e1d9a53-0aeb-47ab-dc10-2f34752e5277"
      },
      "outputs": [
        {
          "data": {
            "text/html": [
              "\n",
              "  <div id=\"df-fa173195-acf1-4acd-8ac6-5706e7955dbb\">\n",
              "    <div class=\"colab-df-container\">\n",
              "      <div>\n",
              "<style scoped>\n",
              "    .dataframe tbody tr th:only-of-type {\n",
              "        vertical-align: middle;\n",
              "    }\n",
              "\n",
              "    .dataframe tbody tr th {\n",
              "        vertical-align: top;\n",
              "    }\n",
              "\n",
              "    .dataframe thead th {\n",
              "        text-align: right;\n",
              "    }\n",
              "</style>\n",
              "<table border=\"1\" class=\"dataframe\">\n",
              "  <thead>\n",
              "    <tr style=\"text-align: right;\">\n",
              "      <th></th>\n",
              "      <th>date</th>\n",
              "      <th>price</th>\n",
              "    </tr>\n",
              "  </thead>\n",
              "  <tbody>\n",
              "    <tr>\n",
              "      <th>0</th>\n",
              "      <td>1986-01-02</td>\n",
              "      <td>25.56</td>\n",
              "    </tr>\n",
              "    <tr>\n",
              "      <th>1</th>\n",
              "      <td>1986-01-03</td>\n",
              "      <td>26.00</td>\n",
              "    </tr>\n",
              "    <tr>\n",
              "      <th>2</th>\n",
              "      <td>1986-01-06</td>\n",
              "      <td>26.53</td>\n",
              "    </tr>\n",
              "    <tr>\n",
              "      <th>3</th>\n",
              "      <td>1986-01-07</td>\n",
              "      <td>25.85</td>\n",
              "    </tr>\n",
              "    <tr>\n",
              "      <th>4</th>\n",
              "      <td>1986-01-08</td>\n",
              "      <td>25.87</td>\n",
              "    </tr>\n",
              "  </tbody>\n",
              "</table>\n",
              "</div>\n",
              "      <button class=\"colab-df-convert\" onclick=\"convertToInteractive('df-fa173195-acf1-4acd-8ac6-5706e7955dbb')\"\n",
              "              title=\"Convert this dataframe to an interactive table.\"\n",
              "              style=\"display:none;\">\n",
              "        \n",
              "  <svg xmlns=\"http://www.w3.org/2000/svg\" height=\"24px\"viewBox=\"0 0 24 24\"\n",
              "       width=\"24px\">\n",
              "    <path d=\"M0 0h24v24H0V0z\" fill=\"none\"/>\n",
              "    <path d=\"M18.56 5.44l.94 2.06.94-2.06 2.06-.94-2.06-.94-.94-2.06-.94 2.06-2.06.94zm-11 1L8.5 8.5l.94-2.06 2.06-.94-2.06-.94L8.5 2.5l-.94 2.06-2.06.94zm10 10l.94 2.06.94-2.06 2.06-.94-2.06-.94-.94-2.06-.94 2.06-2.06.94z\"/><path d=\"M17.41 7.96l-1.37-1.37c-.4-.4-.92-.59-1.43-.59-.52 0-1.04.2-1.43.59L10.3 9.45l-7.72 7.72c-.78.78-.78 2.05 0 2.83L4 21.41c.39.39.9.59 1.41.59.51 0 1.02-.2 1.41-.59l7.78-7.78 2.81-2.81c.8-.78.8-2.07 0-2.86zM5.41 20L4 18.59l7.72-7.72 1.47 1.35L5.41 20z\"/>\n",
              "  </svg>\n",
              "      </button>\n",
              "      \n",
              "  <style>\n",
              "    .colab-df-container {\n",
              "      display:flex;\n",
              "      flex-wrap:wrap;\n",
              "      gap: 12px;\n",
              "    }\n",
              "\n",
              "    .colab-df-convert {\n",
              "      background-color: #E8F0FE;\n",
              "      border: none;\n",
              "      border-radius: 50%;\n",
              "      cursor: pointer;\n",
              "      display: none;\n",
              "      fill: #1967D2;\n",
              "      height: 32px;\n",
              "      padding: 0 0 0 0;\n",
              "      width: 32px;\n",
              "    }\n",
              "\n",
              "    .colab-df-convert:hover {\n",
              "      background-color: #E2EBFA;\n",
              "      box-shadow: 0px 1px 2px rgba(60, 64, 67, 0.3), 0px 1px 3px 1px rgba(60, 64, 67, 0.15);\n",
              "      fill: #174EA6;\n",
              "    }\n",
              "\n",
              "    [theme=dark] .colab-df-convert {\n",
              "      background-color: #3B4455;\n",
              "      fill: #D2E3FC;\n",
              "    }\n",
              "\n",
              "    [theme=dark] .colab-df-convert:hover {\n",
              "      background-color: #434B5C;\n",
              "      box-shadow: 0px 1px 3px 1px rgba(0, 0, 0, 0.15);\n",
              "      filter: drop-shadow(0px 1px 2px rgba(0, 0, 0, 0.3));\n",
              "      fill: #FFFFFF;\n",
              "    }\n",
              "  </style>\n",
              "\n",
              "      <script>\n",
              "        const buttonEl =\n",
              "          document.querySelector('#df-fa173195-acf1-4acd-8ac6-5706e7955dbb button.colab-df-convert');\n",
              "        buttonEl.style.display =\n",
              "          google.colab.kernel.accessAllowed ? 'block' : 'none';\n",
              "\n",
              "        async function convertToInteractive(key) {\n",
              "          const element = document.querySelector('#df-fa173195-acf1-4acd-8ac6-5706e7955dbb');\n",
              "          const dataTable =\n",
              "            await google.colab.kernel.invokeFunction('convertToInteractive',\n",
              "                                                     [key], {});\n",
              "          if (!dataTable) return;\n",
              "\n",
              "          const docLinkHtml = 'Like what you see? Visit the ' +\n",
              "            '<a target=\"_blank\" href=https://colab.research.google.com/notebooks/data_table.ipynb>data table notebook</a>'\n",
              "            + ' to learn more about interactive tables.';\n",
              "          element.innerHTML = '';\n",
              "          dataTable['output_type'] = 'display_data';\n",
              "          await google.colab.output.renderOutput(dataTable, element);\n",
              "          const docLink = document.createElement('div');\n",
              "          docLink.innerHTML = docLinkHtml;\n",
              "          element.appendChild(docLink);\n",
              "        }\n",
              "      </script>\n",
              "    </div>\n",
              "  </div>\n",
              "  "
            ],
            "text/plain": [
              "        date  price\n",
              "0 1986-01-02  25.56\n",
              "1 1986-01-03  26.00\n",
              "2 1986-01-06  26.53\n",
              "3 1986-01-07  25.85\n",
              "4 1986-01-08  25.87"
            ]
          },
          "execution_count": 2,
          "metadata": {},
          "output_type": "execute_result"
        }
      ],
      "source": [
        "cos_credentials={\n",
        "  \"apikey\": \"5lDfM8QcqpTFlKVVjKmm06zGbSspFR6gqGpmbFDWLlRc\",\n",
        "  \"endpoints\": \"https://control.cloud-object-storage.cloud.ibm.com/v2/endpoints\",\n",
        "  \"iam_apikey_description\": \"Auto-generated for key crn:v1:bluemix:public:cloud-object-storage:global:a/d2c7455b84a789b58a1cff48368133ea1:e1e617d9-39a8-465d-bd9a-f3ca9bbb5297:resource-key:cd3a6762-cdaf-4808-b931-198e378e86d5\",\n",
        "  \"iam_apikey_name\": \"pnt2022tmid13214\",\n",
        "  \"iam_role_crn\": \"crn:v1:bluemix:public:iam::::serviceRole:Writer\",\n",
        "  \"iam_serviceid_crn\": \"crn:v1:bluemix:public:iam-identity::a/d2c796b84a794b58a1cff48368133ea1::serviceid:ServiceId-469be452-375b-4d58-9c23-d742c9a3256e\",\n",
        "  \"resource_instance_id\": \"crn:v1:bluemix:public:cloud-object-storage:global:a/d2c796b84a794b58a1cff48368133ea1:e1e617d9-39a8-465d-bd9a-f3ca9bbb5297::\"\n",
        "}\n",
        "auth_endpoint = 'https://iam.cloud.ibm.com/oidc/token'\n",
        "service_endpoint = 'https://s3.us-east.cloud-object-storage.appdomain.cloud'\n",
        "cos = ibm_boto3.client('s3',\n",
        "                         ibm_api_key_id=cos_credentials['apikey'],\n",
        "                        ibm_service_instance_id=cos_credentials['resource_instance_id'],\n",
        "                         ibm_auth_endpoint=auth_endpoint,\n",
        "                         config=Config(signature_version='oauth'),\n",
        "                         endpoint_url=service_endpoint)\n",
        "obj =cos.get_object(Bucket='pnt2022tmid12708', Key='Crude Oil Prices Daily.xlsx')\n",
        "df = pd.read_excel(io.BytesIO(obj['Body'].read()), header=None, names=['date', 'price'] ,skiprows=1)\n",
        "df.head()"
      ]
    },
    {
      "cell_type": "markdown",
      "metadata": {
        "id": "nM-EswfoNJqd"
      },
      "source": [
        "Handling Missing data"
      ]
    },
    {
      "cell_type": "code",
      "execution_count": 3,
      "metadata": {
        "colab": {
          "base_uri": "https://localhost:8080/"
        },
        "id": "ECCNCoJpNIKH",
        "outputId": "1f69ea93-cab3-4f8b-9c7f-b635dcc33ade"
      },
      "outputs": [
        {
          "data": {
            "text/plain": [
              "date     False\n",
              "price     True\n",
              "dtype: bool"
            ]
          },
          "execution_count": 3,
          "metadata": {},
          "output_type": "execute_result"
        }
      ],
      "source": [
        "df.isnull().any()"
      ]
    },
    {
      "cell_type": "code",
      "execution_count": 4,
      "metadata": {
        "colab": {
          "base_uri": "https://localhost:8080/"
        },
        "id": "kvvfvW4oNQhA",
        "outputId": "f713ba17-441a-4fc6-bfcb-b61b2f813466"
      },
      "outputs": [
        {
          "data": {
            "text/plain": [
              "date     False\n",
              "price    False\n",
              "dtype: bool"
            ]
          },
          "execution_count": 4,
          "metadata": {},
          "output_type": "execute_result"
        }
      ],
      "source": [
        "df.dropna(axis=0,inplace=True)\n",
        "df.isnull().any()"
      ]
    },
    {
      "cell_type": "code",
      "execution_count": 5,
      "metadata": {
        "colab": {
          "base_uri": "https://localhost:8080/"
        },
        "id": "GPpTfwwoNTOn",
        "outputId": "f172f882-b06a-415e-d82a-2f0730f2e8f5"
      },
      "outputs": [
        {
          "data": {
            "text/plain": [
              "(8216, 2)"
            ]
          },
          "execution_count": 5,
          "metadata": {},
          "output_type": "execute_result"
        }
      ],
      "source": [
        "df.shape"
      ]
    },
    {
      "cell_type": "markdown",
      "metadata": {
        "id": "DXwnbkowNUxy"
      },
      "source": [
        "Data Visualization "
      ]
    },
    {
      "cell_type": "code",
      "execution_count": 6,
      "metadata": {
        "colab": {
          "base_uri": "https://localhost:8080/",
          "height": 392
        },
        "id": "zcylrcOeNW5O",
        "outputId": "b466642c-59b2-48ca-b76b-4597265a2d54"
      },
      "outputs": [
        {
          "data": {
            "text/plain": [
              "[<matplotlib.lines.Line2D at 0x7f8ab40ba110>]"
            ]
          },
          "execution_count": 6,
          "metadata": {},
          "output_type": "execute_result"
        },
        {
          "data": {
            "image/png": "[encoded data removed]",
            "text/plain": [
              "<Figure size 1080x432 with 1 Axes>"
            ]
          },
          "metadata": {
            "needs_background": "light"
          },
          "output_type": "display_data"
        }
      ],
      "source": [
        "plot = plt.figure(figsize=(15, 6))\n",
        "time = pd.to_datetime(df['date'])\n",
        "price = list(df['price'])\n",
        "data = pd.Series(price, time)\n",
        "plt.plot(data)"
      ]
    },
    {
      "cell_type": "code",
      "execution_count": 7,
      "metadata": {
        "colab": {
          "base_uri": "https://localhost:8080/",
          "height": 392
        },
        "id": "93nY_2cmNbq8",
        "outputId": "7502ff63-8f0c-4d9d-ec98-81d19a117626"
      },
      "outputs": [
        {
          "data": {
            "image/png": "[encoded data removed]",
            "text/plain": [
              "<Figure size 1080x432 with 1 Axes>"
            ]
          },
          "metadata": {
            "needs_background": "light"
          },
          "output_type": "display_data"
        }
      ],
      "source": [
        "#Decompose the plot\n",
        "df.set_index('date', inplace=True)\n",
        "y = df['price'].resample('MS').mean()\n",
        "y.plot(figsize=(15, 6))\n",
        "plt.show()"
      ]
    },
    {
      "cell_type": "code",
      "execution_count": 8,
      "metadata": {
        "colab": {
          "base_uri": "https://localhost:8080/",
          "height": 585
        },
        "id": "Vo4ktPgGNgDJ",
        "outputId": "ee34cea5-6a1f-491f-b2d5-def467fd57c7"
      },
      "outputs": [
        {
          "data": {
            "application/vnd.code.notebook.error": {
              "message": "Failed to execute 'atob' on 'WorkerGlobalScope': The string to be decoded is not correctly encoded.",
              "name": "InvalidCharacterError",
              "stack": "Error: Failed to execute 'atob' on 'WorkerGlobalScope': The string to be decoded is not correctly encoded.\n    at i (https://main.vscode-cdn.net/stable/6261075646f055b99068d3688932416f2346dd3b/extensions/ipynb/dist/browser/ipynbMain.js#vscode-extension:3:147807)\n    at l (https://main.vscode-cdn.net/stable/6261075646f055b99068d3688932416f2346dd3b/extensions/ipynb/dist/browser/ipynbMain.js#vscode-extension:3:148760)\n    at h (https://main.vscode-cdn.net/stable/6261075646f055b99068d3688932416f2346dd3b/extensions/ipynb/dist/browser/ipynbMain.js#vscode-extension:3:149510)\n    at Array.map (<anonymous>)\n    at eval (https://main.vscode-cdn.net/stable/6261075646f055b99068d3688932416f2346dd3b/extensions/ipynb/dist/browser/ipynbMain.js#vscode-extension:3:150678)\n    at eval (https://main.vscode-cdn.net/stable/6261075646f055b99068d3688932416f2346dd3b/extensions/ipynb/dist/browser/ipynbMain.js#vscode-extension:3:150995)\n    at eval (https://main.vscode-cdn.net/stable/6261075646f055b99068d3688932416f2346dd3b/extensions/ipynb/dist/browser/ipynbMain.js#vscode-extension:3:151002)\n    at Array.map (<anonymous>)\n    at e.jupyterNotebookModelToNotebookData (https://main.vscode-cdn.net/stable/6261075646f055b99068d3688932416f2346dd3b/extensions/ipynb/dist/browser/ipynbMain.js#vscode-extension:3:150254)\n    at e.NotebookSerializer.deserializeNotebook (https://main.vscode-cdn.net/stable/6261075646f055b99068d3688932416f2346dd3b/extensions/ipynb/dist/browser/ipynbMain.js#vscode-extension:3:160877)\n    at a.$dataToNotebook (../../../vs/workbench/api/worker/extensionHostWorker.js:76:98338)\n    at d._doInvokeHandler (../../../vs/workbench/api/worker/extensionHostWorker.js:76:216219)\n    at d._invokeHandler (../../../vs/workbench/api/worker/extensionHostWorker.js:76:215901)\n    at d._receiveRequest (../../../vs/workbench/api/worker/extensionHostWorker.js:76:214614)\n    at d._receiveOneMessage (../../../vs/workbench/api/worker/extensionHostWorker.js:76:213566)\n    at eval (../../../vs/workbench/api/worker/extensionHostWorker.js:76:211474)\n    at y.invoke (https://v--1nrv14beg8a5cffo38rrdlpkq83i9eaf77bv050jaedv839ms9l7.vscode-cdn.net/stable/6261075646f055b99068d3688932416f2346dd3b/out/vs/base/worker/workerMain.js:16:145)\n    at v.deliver (https://v--1nrv14beg8a5cffo38rrdlpkq83i9eaf77bv050jaedv839ms9l7.vscode-cdn.net/stable/6261075646f055b99068d3688932416f2346dd3b/out/vs/base/worker/workerMain.js:16:2266)\n    at F.fire (https://v--1nrv14beg8a5cffo38rrdlpkq83i9eaf77bv050jaedv839ms9l7.vscode-cdn.net/stable/6261075646f055b99068d3688932416f2346dd3b/out/vs/base/worker/workerMain.js:16:1844)\n    at MessagePort.c.port1.onmessage (../../../vs/workbench/api/worker/extensionHostWorker.js:83:4033)"
            },
            "text/plain": [
              "<Figure size 1296x576 with 4 Axes>"
            ]
          },
          "metadata": {
            "needs_background": "light"
          },
          "output_type": "display_data"
        }
      ],
      "source": [
        "rcParams['figure.figsize'] = 18, 8\n",
        "decomposition = sm.tsa.seasonal_decompose(y, model='additive')\n",
        "fig = decomposition.plot()\n",
        "plt.show()"
      ]
    },
    {
      "cell_type": "markdown",
      "metadata": {
        "id": "jf802BtvNh4_"
      },
      "source": [
        "Feature Scaling"
      ]
    },
    {
      "cell_type": "code",
      "execution_count": 9,
      "metadata": {
        "id": "3SJ8Zn1mNjp3"
      },
      "outputs": [],
      "source": [
        "df1 = df.reset_index()['price']\n",
        "sc = MinMaxScaler(feature_range = (0, 1))\n",
        "df1 = sc.fit_transform(np.array(df1).reshape(-1,1))"
      ]
    },
    {
      "cell_type": "code",
      "execution_count": 10,
      "metadata": {
        "colab": {
          "base_uri": "https://localhost:8080/"
        },
        "id": "Q4AZGyPDNm9E",
        "outputId": "b2a9744d-2306-45c1-d74f-266337fd7cae"
      },
      "outputs": [
        {
          "data": {
            "text/plain": [
              "(8216, 1)"
            ]
          },
          "execution_count": 10,
          "metadata": {},
          "output_type": "execute_result"
        }
      ],
      "source": [
        "df1.shape"
      ]
    },
    {
      "cell_type": "markdown",
      "metadata": {
        "id": "NiyvkMANNo-g"
      },
      "source": [
        "Train Test Split\n"
      ]
    },
    {
      "cell_type": "code",
      "execution_count": 11,
      "metadata": {
        "id": "li4uFmhANrZV"
      },
      "outputs": [],
      "source": [
        "train_size = int(len(df1) * 0.80)\n",
        "test_size = len(df1) - train_size\n",
        "train, test = df1[0:train_size, :], df1[train_size:len(df1), :]"
      ]
    },
    {
      "cell_type": "code",
      "execution_count": 12,
      "metadata": {
        "colab": {
          "base_uri": "https://localhost:8080/"
        },
        "id": "nLxyGw7FNuzW",
        "outputId": "c915cc62-34dd-412b-bc97-53c7f0d91315"
      },
      "outputs": [
        {
          "data": {
            "text/plain": [
              "1644"
            ]
          },
          "execution_count": 12,
          "metadata": {},
          "output_type": "execute_result"
        }
      ],
      "source": [
        "len(test)"
      ]
    },
    {
      "cell_type": "markdown",
      "metadata": {
        "id": "dto9usKGNwao"
      },
      "source": [
        "Creating Window "
      ]
    },
    {
      "cell_type": "code",
      "execution_count": 13,
      "metadata": {
        "id": "74s2LEcMNyS2"
      },
      "outputs": [],
      "source": [
        "def dataset(df, lookback=1):\n",
        "    data_x, data_y = [], []\n",
        "    for i in range(len(df) - lookback - 1):\n",
        "        a = df[i:(i + lookback), 0]\n",
        "        data_x.append(a)\n",
        "        data_y.append(df[i + lookback, 0])\n",
        "    return np.array(data_x), np.array(data_y)\n",
        "\n",
        "time_step = 10\n",
        "# Reshape into X=t and Y=t+1\n",
        "X_train , Y_train = dataset(train,time_step)\n",
        "X_test , Y_test = dataset(test,time_step)\n",
        "# Reshape input to be [samples, time steps, features]\n",
        "X_train = X_train.reshape(X_train.shape[0],X_train.shape[1],1)\n",
        "X_test = X_test.reshape(X_test.shape[0],X_test.shape[1],1)"
      ]
    },
    {
      "cell_type": "code",
      "execution_count": 14,
      "metadata": {
        "colab": {
          "base_uri": "https://localhost:8080/"
        },
        "id": "gBW0N5gnN2kp",
        "outputId": "3cdd4e9e-ed27-4b35-f87b-6ad0e162c155"
      },
      "outputs": [
        {
          "data": {
            "text/plain": [
              "(6561, 10, 1)"
            ]
          },
          "execution_count": 14,
          "metadata": {},
          "output_type": "execute_result"
        }
      ],
      "source": [
        "X_train.shape"
      ]
    },
    {
      "cell_type": "markdown",
      "metadata": {
        "id": "IaPyT1RkN4mN"
      },
      "source": [
        "Model Building"
      ]
    },
    {
      "cell_type": "markdown",
      "metadata": {
        "id": "WU5RjhxgN6ZV"
      },
      "source": [
        "Importing the Model Libraries "
      ]
    },
    {
      "cell_type": "code",
      "execution_count": 15,
      "metadata": {
        "id": "0Wh3X91GN-YD"
      },
      "outputs": [],
      "source": [
        "import tensorflow as tf\n",
        "from tensorflow.keras.models import Sequential\n",
        "from tensorflow.keras.layers import Dense\n",
        "from tensorflow.keras.layers import LSTM\n",
        "from sklearn.metrics import mean_absolute_error\n",
        "from sklearn.metrics import mean_squared_error"
      ]
    },
    {
      "cell_type": "markdown",
      "metadata": {
        "id": "s98zbXNQOH41"
      },
      "source": [
        "Initializing the Model\n",
        "\n",
        "> Indented block\n",
        "\n",
        "\n",
        "Adding LSTM Layers\n",
        "\n",
        "> Indented block\n",
        "\n",
        "\n",
        "Adding Output Layers"
      ]
    },
    {
      "cell_type": "code",
      "execution_count": 16,
      "metadata": {
        "colab": {
          "base_uri": "https://localhost:8080/"
        },
        "id": "9h8b81IJOU-4",
        "outputId": "aec662ae-9bc0-4a4b-f06c-991215ccda05"
      },
      "outputs": [
        {
          "name": "stdout",
          "output_type": "stream",
          "text": [
            "Model: \"sequential\"\n",
            "_________________________________________________________________\n",
            " Layer (type)                Output Shape              Param #   \n",
            "=================================================================\n",
            " lstm (LSTM)                 (None, 10, 10)            480       \n",
            "                                                                 \n",
            " lstm_1 (LSTM)               (None, 10, 10)            840       \n",
            "                                                                 \n",
            " lstm_2 (LSTM)               (None, 10)                840       \n",
            "                                                                 \n",
            " dense (Dense)               (None, 1)                 11        \n",
            "                                                                 \n",
            "=================================================================\n",
            "Total params: 2,171\n",
            "Trainable params: 2,171\n",
            "Non-trainable params: 0\n",
            "_________________________________________________________________\n"
          ]
        }
      ],
      "source": [
        "model = Sequential()\n",
        "model.add(LSTM(units = 10, return_sequences = True, input_shape = (X_train.shape[1], 1)))\n",
        "model.add(LSTM(units = 10, return_sequences = True))\n",
        "model.add(LSTM(units = 10))\n",
        "model.add(Dense(units = 1))\n",
        "model.compile(optimizer = 'adam', loss = 'mean_squared_error')\n",
        "model.summary()"
      ]
    },
    {
      "cell_type": "code",
      "execution_count": 17,
      "metadata": {
        "colab": {
          "base_uri": "https://localhost:8080/"
        },
        "id": "_UwK4VhkOa6T",
        "outputId": "90aecbe0-cc61-4738-c0b2-6a808ea7aa55"
      },
      "outputs": [
        {
          "name": "stdout",
          "output_type": "stream",
          "text": [
            "960\n"
          ]
        }
      ],
      "source": [
        "# 1st LSTM Layer \n",
        "print(4 * 20 * (1 + 10 + 1))"
      ]
    },
    {
      "cell_type": "markdown",
      "metadata": {
        "id": "oK96lUF1OhI1"
      },
      "source": [
        "Configure the Learning Process"
      ]
    },
    {
      "cell_type": "code",
      "execution_count": 18,
      "metadata": {
        "colab": {
          "base_uri": "https://localhost:8080/"
        },
        "id": "VjDhTQGOOd1X",
        "outputId": "fc5932af-0a69-4802-f906-faf8cfb07181"
      },
      "outputs": [
        {
          "name": "stdout",
          "output_type": "stream",
          "text": [
            "Epoch 1/30\n",
            "103/103 - 9s - loss: 0.0112 - val_loss: 5.0094e-04 - 9s/epoch - 90ms/step\n",
            "Epoch 2/30\n",
            "103/103 - 2s - loss: 3.7692e-04 - val_loss: 4.7981e-04 - 2s/epoch - 15ms/step\n",
            "Epoch 3/30\n",
            "103/103 - 1s - loss: 3.7301e-04 - val_loss: 4.6820e-04 - 1s/epoch - 14ms/step\n",
            "Epoch 4/30\n",
            "103/103 - 1s - loss: 3.6696e-04 - val_loss: 5.4007e-04 - 1s/epoch - 14ms/step\n",
            "Epoch 5/30\n",
            "103/103 - 1s - loss: 3.6384e-04 - val_loss: 4.5434e-04 - 1s/epoch - 14ms/step\n",
            "Epoch 6/30\n",
            "103/103 - 1s - loss: 3.5688e-04 - val_loss: 4.7348e-04 - 1s/epoch - 14ms/step\n",
            "Epoch 7/30\n",
            "103/103 - 1s - loss: 3.6497e-04 - val_loss: 4.3786e-04 - 1s/epoch - 14ms/step\n",
            "Epoch 8/30\n",
            "103/103 - 2s - loss: 3.4967e-04 - val_loss: 4.5646e-04 - 2s/epoch - 15ms/step\n",
            "Epoch 9/30\n",
            "103/103 - 1s - loss: 3.4177e-04 - val_loss: 4.5035e-04 - 1s/epoch - 14ms/step\n",
            "Epoch 10/30\n",
            "103/103 - 1s - loss: 3.5122e-04 - val_loss: 4.0789e-04 - 1s/epoch - 14ms/step\n",
            "Epoch 11/30\n",
            "103/103 - 1s - loss: 3.3920e-04 - val_loss: 4.4824e-04 - 1s/epoch - 14ms/step\n",
            "Epoch 12/30\n",
            "103/103 - 1s - loss: 3.3663e-04 - val_loss: 3.9092e-04 - 1s/epoch - 14ms/step\n",
            "Epoch 13/30\n",
            "103/103 - 1s - loss: 3.2131e-04 - val_loss: 4.0681e-04 - 1s/epoch - 14ms/step\n",
            "Epoch 14/30\n",
            "103/103 - 1s - loss: 3.1546e-04 - val_loss: 4.4074e-04 - 1s/epoch - 14ms/step\n",
            "Epoch 15/30\n",
            "103/103 - 2s - loss: 3.0861e-04 - val_loss: 4.3052e-04 - 2s/epoch - 15ms/step\n",
            "Epoch 16/30\n",
            "103/103 - 2s - loss: 3.0630e-04 - val_loss: 4.0780e-04 - 2s/epoch - 15ms/step\n",
            "Epoch 17/30\n",
            "103/103 - 1s - loss: 3.1468e-04 - val_loss: 8.4797e-04 - 1s/epoch - 14ms/step\n",
            "Epoch 18/30\n",
            "103/103 - 1s - loss: 3.1461e-04 - val_loss: 3.6340e-04 - 1s/epoch - 14ms/step\n",
            "Epoch 19/30\n",
            "103/103 - 1s - loss: 3.1119e-04 - val_loss: 3.4131e-04 - 1s/epoch - 14ms/step\n",
            "Epoch 20/30\n",
            "103/103 - 2s - loss: 2.8230e-04 - val_loss: 4.1067e-04 - 2s/epoch - 19ms/step\n",
            "Epoch 21/30\n",
            "103/103 - 1s - loss: 2.8402e-04 - val_loss: 3.4141e-04 - 1s/epoch - 14ms/step\n",
            "Epoch 22/30\n",
            "103/103 - 1s - loss: 2.6405e-04 - val_loss: 3.4913e-04 - 1s/epoch - 14ms/step\n",
            "Epoch 23/30\n",
            "103/103 - 1s - loss: 2.6101e-04 - val_loss: 3.8124e-04 - 1s/epoch - 14ms/step\n",
            "Epoch 24/30\n",
            "103/103 - 1s - loss: 2.5527e-04 - val_loss: 4.2556e-04 - 1s/epoch - 14ms/step\n",
            "Epoch 25/30\n",
            "103/103 - 2s - loss: 2.6007e-04 - val_loss: 3.5432e-04 - 2s/epoch - 20ms/step\n",
            "Epoch 26/30\n",
            "103/103 - 2s - loss: 2.3409e-04 - val_loss: 2.8645e-04 - 2s/epoch - 17ms/step\n",
            "Epoch 27/30\n",
            "103/103 - 1s - loss: 2.6109e-04 - val_loss: 2.9655e-04 - 1s/epoch - 14ms/step\n",
            "Epoch 28/30\n",
            "103/103 - 1s - loss: 2.2178e-04 - val_loss: 2.4915e-04 - 1s/epoch - 14ms/step\n",
            "Epoch 29/30\n",
            "103/103 - 1s - loss: 2.1600e-04 - val_loss: 2.7504e-04 - 1s/epoch - 15ms/step\n",
            "Epoch 30/30\n",
            "103/103 - 1s - loss: 2.0814e-04 - val_loss: 2.3986e-04 - 1s/epoch - 14ms/step\n"
          ]
        }
      ],
      "source": [
        "history = model.fit(X_train, Y_train, epochs = 30, batch_size = 64,validation_data=(X_test, Y_test),verbose=2)"
      ]
    },
    {
      "cell_type": "markdown",
      "metadata": {
        "id": "QWf-e63qO4p6"
      },
      "source": [
        "Train the Model"
      ]
    },
    {
      "cell_type": "code",
      "execution_count": 19,
      "metadata": {
        "colab": {
          "base_uri": "https://localhost:8080/"
        },
        "id": "VJibiC17O7jB",
        "outputId": "2de09a07-3ce4-493a-8835-9f738ae200a2"
      },
      "outputs": [
        {
          "name": "stdout",
          "output_type": "stream",
          "text": [
            "206/206 [==============================] - 2s 4ms/step\n",
            "52/52 [==============================] - 0s 5ms/step\n"
          ]
        }
      ],
      "source": [
        "train_predict = model.predict(X_train)\n",
        "test_predict = model.predict(X_test)"
      ]
    },
    {
      "cell_type": "code",
      "execution_count": 20,
      "metadata": {
        "id": "mYicL5xZPAKZ"
      },
      "outputs": [],
      "source": [
        "# invert predictions\n",
        "train_predict = sc.inverse_transform(train_predict)\n",
        "Y_train = sc.inverse_transform([Y_train])\n",
        "test_predict = sc.inverse_transform(test_predict)\n",
        "Y_test = sc.inverse_transform([Y_test])"
      ]
    },
    {
      "cell_type": "markdown",
      "metadata": {
        "id": "ri4hUxvQPB18"
      },
      "source": [
        "Model Evaluation"
      ]
    },
    {
      "cell_type": "code",
      "execution_count": 21,
      "metadata": {
        "colab": {
          "base_uri": "https://localhost:8080/"
        },
        "id": "u9Vm5dLWPEbP",
        "outputId": "84189243-a56f-4655-b910-7ddd8903ca5d"
      },
      "outputs": [
        {
          "name": "stdout",
          "output_type": "stream",
          "text": [
            "Train Mean Absolute Error: 1.2706369568461817\n",
            "Train Root Mean Squared Error: 1.8976133106771054\n",
            "Test Mean Absolute Error: 1.6448840455372347\n",
            "Test Root Mean Squared Error: 2.0917194246994555\n"
          ]
        }
      ],
      "source": [
        "print('Train Mean Absolute Error:', mean_absolute_error(Y_train[0], train_predict[:,0]))\n",
        "print('Train Root Mean Squared Error:',np.sqrt(mean_squared_error(Y_train[0], train_predict[:,0])))\n",
        "print('Test Mean Absolute Error:', mean_absolute_error(Y_test[0], test_predict[:,0]))\n",
        "print('Test Root Mean Squared Error:',np.sqrt(mean_squared_error(Y_test[0], test_predict[:,0])))"
      ]
    },
    {
      "cell_type": "code",
      "execution_count": 22,
      "metadata": {
        "colab": {
          "base_uri": "https://localhost:8080/",
          "height": 295
        },
        "id": "oJy1Sn0JPIoC",
        "outputId": "d9944cb9-a14f-4ffb-bab8-613401eaf080"
      },
      "outputs": [
        {
          "data": {
            "application/vnd.code.notebook.error": {
              "message": "Failed to execute 'atob' on 'WorkerGlobalScope': The string to be decoded is not correctly encoded.",
              "name": "InvalidCharacterError",
              "stack": "Error: Failed to execute 'atob' on 'WorkerGlobalScope': The string to be decoded is not correctly encoded.\n    at i (https://main.vscode-cdn.net/stable/6261075646f055b99068d3688932416f2346dd3b/extensions/ipynb/dist/browser/ipynbMain.js#vscode-extension:3:147807)\n    at l (https://main.vscode-cdn.net/stable/6261075646f055b99068d3688932416f2346dd3b/extensions/ipynb/dist/browser/ipynbMain.js#vscode-extension:3:148760)\n    at h (https://main.vscode-cdn.net/stable/6261075646f055b99068d3688932416f2346dd3b/extensions/ipynb/dist/browser/ipynbMain.js#vscode-extension:3:149510)\n    at Array.map (<anonymous>)\n    at eval (https://main.vscode-cdn.net/stable/6261075646f055b99068d3688932416f2346dd3b/extensions/ipynb/dist/browser/ipynbMain.js#vscode-extension:3:150678)\n    at eval (https://main.vscode-cdn.net/stable/6261075646f055b99068d3688932416f2346dd3b/extensions/ipynb/dist/browser/ipynbMain.js#vscode-extension:3:150995)\n    at eval (https://main.vscode-cdn.net/stable/6261075646f055b99068d3688932416f2346dd3b/extensions/ipynb/dist/browser/ipynbMain.js#vscode-extension:3:151002)\n    at Array.map (<anonymous>)\n    at e.jupyterNotebookModelToNotebookData (https://main.vscode-cdn.net/stable/6261075646f055b99068d3688932416f2346dd3b/extensions/ipynb/dist/browser/ipynbMain.js#vscode-extension:3:150254)\n    at e.NotebookSerializer.deserializeNotebook (https://main.vscode-cdn.net/stable/6261075646f055b99068d3688932416f2346dd3b/extensions/ipynb/dist/browser/ipynbMain.js#vscode-extension:3:160877)\n    at a.$dataToNotebook (../../../vs/workbench/api/worker/extensionHostWorker.js:76:98338)\n    at d._doInvokeHandler (../../../vs/workbench/api/worker/extensionHostWorker.js:76:216219)\n    at d._invokeHandler (../../../vs/workbench/api/worker/extensionHostWorker.js:76:215901)\n    at d._receiveRequest (../../../vs/workbench/api/worker/extensionHostWorker.js:76:214614)\n    at d._receiveOneMessage (../../../vs/workbench/api/worker/extensionHostWorker.js:76:213566)\n    at eval (../../../vs/workbench/api/worker/extensionHostWorker.js:76:211474)\n    at y.invoke (https://v--1nrv14beg8a5cffo38rrdlpkq83i9eaf77bv050jaedv839ms9l7.vscode-cdn.net/stable/6261075646f055b99068d3688932416f2346dd3b/out/vs/base/worker/workerMain.js:16:145)\n    at v.deliver (https://v--1nrv14beg8a5cffo38rrdlpkq83i9eaf77bv050jaedv839ms9l7.vscode-cdn.net/stable/6261075646f055b99068d3688932416f2346dd3b/out/vs/base/worker/workerMain.js:16:2266)\n    at F.fire (https://v--1nrv14beg8a5cffo38rrdlpkq83i9eaf77bv050jaedv839ms9l7.vscode-cdn.net/stable/6261075646f055b99068d3688932416f2346dd3b/out/vs/base/worker/workerMain.js:16:1844)\n    at MessagePort.c.port1.onmessage (../../../vs/workbench/api/worker/extensionHostWorker.js:83:4033)"
            },
            "text/plain": [
              "<Figure size 576x288 with 1 Axes>"
            ]
          },
          "metadata": {
            "needs_background": "light"
          },
          "output_type": "display_data"
        }
      ],
      "source": [
        "plt.figure(figsize=(8,4))\n",
        "plt.plot(history.history['loss'], label='Train Loss')\n",
        "plt.plot(history.history['val_loss'], label='Test Loss')\n",
        "plt.title('model loss')\n",
        "plt.ylabel('loss')\n",
        "plt.xlabel('epochs')\n",
        "plt.legend(loc='upper right')\n",
        "plt.show();"
      ]
    },
    {
      "cell_type": "code",
      "execution_count": 23,
      "metadata": {
        "colab": {
          "base_uri": "https://localhost:8080/",
          "height": 316
        },
        "id": "TLKwf5jgPLj0",
        "outputId": "c9031ceb-e066-4128-fa32-d4ecff2da8b1"
      },
      "outputs": [
        {
          "data": {
            "image/png": "[encoded data removed]",
            "text/plain": [
              "<Figure size 576x288 with 1 Axes>"
            ]
          },
          "metadata": {
            "needs_background": "light"
          },
          "output_type": "display_data"
        }
      ],
      "source": [
        "data = [i for i in range(180)]\n",
        "plt.figure(figsize=(8,4))\n",
        "plt.plot(data, Y_test[0][:180], marker='.', label=\"Actual\")\n",
        "plt.plot(data, test_predict[:,0][:180], 'r', label=\"Predicted\")\n",
        "plt.tight_layout()\n",
        "plt.subplots_adjust(left=0.07)\n",
        "plt.ylabel('Price', size=15)\n",
        "plt.xlabel('Time step', size=15)\n",
        "plt.legend(fontsize=15)\n",
        "plt.show();"
      ]
    },
    {
      "cell_type": "markdown",
      "metadata": {
        "id": "2IsGfR1pPOgX"
      },
      "source": [
        "Save the Model\n"
      ]
    },
    {
      "cell_type": "code",
      "execution_count": 24,
      "metadata": {
        "colab": {
          "base_uri": "https://localhost:8080/"
        },
        "id": "pkndsf4FPQUF",
        "outputId": "cc3e9b12-ae95-4832-a948-c40f56d55868"
      },
      "outputs": [
        {
          "name": "stdout",
          "output_type": "stream",
          "text": [
            "model.h5\n"
          ]
        }
      ],
      "source": [
        "model.save(\"model.h5\")\n",
        "!tar -zcvf model.tgz model.h5"
      ]
    },
    {
      "cell_type": "markdown",
      "metadata": {
        "id": "_AXY-Qw8PU7i"
      },
      "source": [
        "Test the saved model\n"
      ]
    },
    {
      "cell_type": "code",
      "execution_count": 25,
      "metadata": {
        "colab": {
          "base_uri": "https://localhost:8080/",
          "height": 483
        },
        "id": "MFThV5KzPXnJ",
        "outputId": "4ee795db-31cc-43d3-a828-3e439773ca1b"
      },
      "outputs": [
        {
          "data": {
            "application/vnd.code.notebook.error": {
              "message": "Failed to execute 'atob' on 'WorkerGlobalScope': The string to be decoded is not correctly encoded.",
              "name": "InvalidCharacterError",
              "stack": "Error: Failed to execute 'atob' on 'WorkerGlobalScope': The string to be decoded is not correctly encoded.\n    at i (https://main.vscode-cdn.net/stable/6261075646f055b99068d3688932416f2346dd3b/extensions/ipynb/dist/browser/ipynbMain.js#vscode-extension:3:147807)\n    at l (https://main.vscode-cdn.net/stable/6261075646f055b99068d3688932416f2346dd3b/extensions/ipynb/dist/browser/ipynbMain.js#vscode-extension:3:148760)\n    at h (https://main.vscode-cdn.net/stable/6261075646f055b99068d3688932416f2346dd3b/extensions/ipynb/dist/browser/ipynbMain.js#vscode-extension:3:149510)\n    at Array.map (<anonymous>)\n    at eval (https://main.vscode-cdn.net/stable/6261075646f055b99068d3688932416f2346dd3b/extensions/ipynb/dist/browser/ipynbMain.js#vscode-extension:3:150678)\n    at eval (https://main.vscode-cdn.net/stable/6261075646f055b99068d3688932416f2346dd3b/extensions/ipynb/dist/browser/ipynbMain.js#vscode-extension:3:150995)\n    at eval (https://main.vscode-cdn.net/stable/6261075646f055b99068d3688932416f2346dd3b/extensions/ipynb/dist/browser/ipynbMain.js#vscode-extension:3:151002)\n    at Array.map (<anonymous>)\n    at e.jupyterNotebookModelToNotebookData (https://main.vscode-cdn.net/stable/6261075646f055b99068d3688932416f2346dd3b/extensions/ipynb/dist/browser/ipynbMain.js#vscode-extension:3:150254)\n    at e.NotebookSerializer.deserializeNotebook (https://main.vscode-cdn.net/stable/6261075646f055b99068d3688932416f2346dd3b/extensions/ipynb/dist/browser/ipynbMain.js#vscode-extension:3:160877)\n    at a.$dataToNotebook (../../../vs/workbench/api/worker/extensionHostWorker.js:76:98338)\n    at d._doInvokeHandler (../../../vs/workbench/api/worker/extensionHostWorker.js:76:216219)\n    at d._invokeHandler (../../../vs/workbench/api/worker/extensionHostWorker.js:76:215901)\n    at d._receiveRequest (../../../vs/workbench/api/worker/extensionHostWorker.js:76:214614)\n    at d._receiveOneMessage (../../../vs/workbench/api/worker/extensionHostWorker.js:76:213566)\n    at eval (../../../vs/workbench/api/worker/extensionHostWorker.js:76:211474)\n    at y.invoke (https://v--1nrv14beg8a5cffo38rrdlpkq83i9eaf77bv050jaedv839ms9l7.vscode-cdn.net/stable/6261075646f055b99068d3688932416f2346dd3b/out/vs/base/worker/workerMain.js:16:145)\n    at v.deliver (https://v--1nrv14beg8a5cffo38rrdlpkq83i9eaf77bv050jaedv839ms9l7.vscode-cdn.net/stable/6261075646f055b99068d3688932416f2346dd3b/out/vs/base/worker/workerMain.js:16:2266)\n    at F.fire (https://v--1nrv14beg8a5cffo38rrdlpkq83i9eaf77bv050jaedv839ms9l7.vscode-cdn.net/stable/6261075646f055b99068d3688932416f2346dd3b/out/vs/base/worker/workerMain.js:16:1844)\n    at MessagePort.c.port1.onmessage (../../../vs/workbench/api/worker/extensionHostWorker.js:83:4033)"
            },
            "text/plain": [
              "<Figure size 1296x576 with 1 Axes>"
            ]
          },
          "metadata": {
            "needs_background": "light"
          },
          "output_type": "display_data"
        }
      ],
      "source": [
        "# Model Testing\n",
        "look_back = 10\n",
        "trainPredictPlot = np.empty_like(df1)\n",
        "trainPredictPlot[:,:] = np.nan\n",
        "trainPredictPlot[look_back:len(train_predict)+look_back,:] = train_predict\n",
        "testPredictPlot = np.empty_like(df1)\n",
        "testPredictPlot[:,:] = np.nan\n",
        "testPredictPlot[len(train_predict)+(look_back*2)+1:len(df1)-1,:] = test_predict\n",
        "plt.plot(sc.inverse_transform(df1))\n",
        "plt.plot(trainPredictPlot)\n",
        "plt.plot(testPredictPlot)\n",
        "plt.show()"
      ]
    },
    {
      "cell_type": "code",
      "execution_count": 26,
      "metadata": {
        "colab": {
          "base_uri": "https://localhost:8080/"
        },
        "id": "oZ0QYvg8Pcen",
        "outputId": "f6164299-46bc-4809-d043-4c0339f45c97"
      },
      "outputs": [
        {
          "data": {
            "text/plain": [
              "(1, 10)"
            ]
          },
          "execution_count": 26,
          "metadata": {},
          "output_type": "execute_result"
        }
      ],
      "source": [
        "x_input = test[len(test)-10:].reshape(1,-1)\n",
        "x_input.shape"
      ]
    },
    {
      "cell_type": "code",
      "execution_count": 27,
      "metadata": {
        "id": "8ElN0WVrPfCr"
      },
      "outputs": [],
      "source": [
        "temp_input = list(x_input[0])\n",
        "temp_list = temp_input[0].tolist()"
      ]
    },
    {
      "cell_type": "code",
      "execution_count": 28,
      "metadata": {
        "colab": {
          "base_uri": "https://localhost:8080/"
        },
        "id": "8AfsT9aRPhKm",
        "outputId": "8c716f36-8a0d-4f67-9c64-c35700ddc916"
      },
      "outputs": [
        {
          "data": {
            "text/plain": [
              "[0.44172960165852215,\n",
              " 0.48111950244335855,\n",
              " 0.49726047682511476,\n",
              " 0.4679401747371539,\n",
              " 0.4729749740855915,\n",
              " 0.47119798608026064,\n",
              " 0.47341922108692425,\n",
              " 0.4649785280616022,\n",
              " 0.4703835332444839,\n",
              " 0.47149415074781587]"
            ]
          },
          "execution_count": 28,
          "metadata": {},
          "output_type": "execute_result"
        }
      ],
      "source": [
        "temp_input"
      ]
    },
    {
      "cell_type": "code",
      "execution_count": 29,
      "metadata": {
        "colab": {
          "base_uri": "https://localhost:8080/"
        },
        "id": "Mg2ov9taPj7I",
        "outputId": "e5e61e6a-641f-40fa-f81e-fafad8461483"
      },
      "outputs": [
        {
          "name": "stdout",
          "output_type": "stream",
          "text": [
            "Day 0 output [[0.47034213]]\n",
            "Day 1 Input [0.4811195  0.49726048 0.46794017 0.47297497 0.47119799 0.47341922\n",
            " 0.46497853 0.47038353 0.47149415 0.47034213]\n",
            "Day 1 Output [[0.4684709]]\n",
            "------------------------\n",
            "Day 2 Input [0.49726048 0.46794017 0.47297497 0.47119799 0.47341922 0.46497853\n",
            " 0.47038353 0.47149415 0.47034213 0.4684709 ]\n",
            "Day 2 Output [[0.4680246]]\n",
            "------------------------\n",
            "Day 3 Input [0.46794017 0.47297497 0.47119799 0.47341922 0.46497853 0.47038353\n",
            " 0.47149415 0.47034213 0.4684709  0.46802461]\n",
            "Day 3 Output [[0.46840668]]\n",
            "------------------------\n",
            "Day 4 Input [0.47297497 0.47119799 0.47341922 0.46497853 0.47038353 0.47149415\n",
            " 0.47034213 0.4684709  0.46802461 0.46840668]\n",
            "Day 4 Output [[0.46794656]]\n",
            "------------------------\n",
            "Day 5 Input [0.47119799 0.47341922 0.46497853 0.47038353 0.47149415 0.47034213\n",
            " 0.4684709  0.46802461 0.46840668 0.46794656]\n",
            "Day 5 Output [[0.46764567]]\n",
            "------------------------\n",
            "Day 6 Input [0.47341922 0.46497853 0.47038353 0.47149415 0.47034213 0.4684709\n",
            " 0.46802461 0.46840668 0.46794656 0.46764567]\n",
            "Day 6 Output [[0.4673073]]\n",
            "------------------------\n",
            "Day 7 Input [0.46497853 0.47038353 0.47149415 0.47034213 0.4684709  0.46802461\n",
            " 0.46840668 0.46794656 0.46764567 0.4673073 ]\n",
            "Day 7 Output [[0.46706584]]\n",
            "------------------------\n",
            "Day 8 Input [0.47038353 0.47149415 0.47034213 0.4684709  0.46802461 0.46840668\n",
            " 0.46794656 0.46764567 0.4673073  0.46706584]\n",
            "Day 8 Output [[0.46654865]]\n",
            "------------------------\n",
            "Day 9 Input [0.47149415 0.47034213 0.4684709  0.46802461 0.46840668 0.46794656\n",
            " 0.46764567 0.4673073  0.46706584 0.46654865]\n",
            "Day 9 Output [[0.46620628]]\n",
            "------------------------\n"
          ]
        }
      ],
      "source": [
        "lst_output = []\n",
        "n_steps = 10\n",
        "i = 0\n",
        "while(i<10):\n",
        "  if(len(temp_input) > 10):\n",
        "    x_input = np.array(temp_input[1:])\n",
        "    print(\"Day {} Input {}\".format(i,x_input),end=\"\\n\")\n",
        "    x_input = x_input.reshape(1,-1)\n",
        "    x_input = x_input.reshape((1,n_steps,1))\n",
        "    yhat = model.predict(x_input,verbose=0)\n",
        "    print(\"Day {} Output {}\".format(i,yhat),end=\"\\n\")\n",
        "    temp_input.extend(yhat[0].tolist())\n",
        "    temp_input = temp_input[1:]\n",
        "    print(\"------------------------\",end=\"\\n\")\n",
        "    lst_output.extend(yhat.tolist())\n",
        "    i = i+1\n",
        "  else:\n",
        "    x_input = x_input.reshape((1,n_steps,1))\n",
        "    yhat = model.predict(x_input,verbose=0)\n",
        "    print(\"Day {} output {}\".format(i,yhat),end=\"\\n\")\n",
        "    temp_input.extend(yhat[0].tolist())\n",
        "    lst_output.extend(yhat.tolist())\n",
        "    i = i+1"
      ]
    }
  ],
  "metadata": {
    "colab": {
      "collapsed_sections": [],
      "provenance": []
    },
    "kernelspec": {
      "display_name": "Python 3",
      "name": "python3"
    },
    "language_info": {
      "name": "python"
    }
  },
  "nbformat": 4,
  "nbformat_minor": 0
}
